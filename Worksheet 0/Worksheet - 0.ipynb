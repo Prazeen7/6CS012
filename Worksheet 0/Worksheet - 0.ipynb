{
 "cells": [
  {
   "cell_type": "code",
   "execution_count": 14,
   "id": "234443eb-d7fb-420e-9db3-be8ddc1e2041",
   "metadata": {},
   "outputs": [
    {
     "name": "stdout",
     "output_type": "stream",
     "text": [
      "Hello, World!\n",
      "Python version: 3.13.2 (tags/v3.13.2:4f8bb39, Feb  4 2025, 15:23:48) [MSC v.1942 64 bit (AMD64)]\n"
     ]
    }
   ],
   "source": [
    "# 3.1\n",
    "import sys\n",
    "# Check Python version\n",
    "if sys.version_info.major == 3 and sys.version_info.minor >= 6:\n",
    "    print (\"Hello, World!\")\n",
    "    print(f\"Python version: {sys.version}\")\n",
    "else:\n",
    "    print(\"Please use Python 3.6 or higher.\")"
   ]
  },
  {
   "cell_type": "code",
   "execution_count": 6,
   "id": "5a99ee0b-7fee-4349-97b5-a492340c8684",
   "metadata": {},
   "outputs": [
    {
     "name": "stdout",
     "output_type": "stream",
     "text": [
      "Original List: [1, 2, 3]\n",
      "Modified List: [1, 2, 3, 4]\n",
      "Original Tuple: (1, 2, 3)\n"
     ]
    }
   ],
   "source": [
    "# 3.2\n",
    "# Mutable Data Type Example \n",
    "my_list = [1, 2, 3]\n",
    "print(\"Original List:\", my_list)\n",
    "# Modifying the list (changing contents)\n",
    "my_list.append(4)\n",
    "print(\"Modified List:\", my_list)\n",
    "#Immutable Data Type Example (Tuple)\n",
    "my_tuple = (1, 2, 3)\n",
    "print(\"Original Tuple:\", my_tuple)\n",
    "# Trying to modify the tuple will raise an error\n",
    "# my_tuple.append(4)"
   ]
  },
  {
   "cell_type": "code",
   "execution_count": 7,
   "id": "5a1dbd72-5d0c-44b0-bc5f-d0250f003a30",
   "metadata": {},
   "outputs": [
    {
     "name": "stdout",
     "output_type": "stream",
     "text": [
      "data type of variable age =  <class 'int'>\n",
      "data type of variable pi =  <class 'float'>\n",
      "data type of variable temperature =  <class 'float'>\n"
     ]
    }
   ],
   "source": [
    "# 3.2.1\n",
    "age = 23\n",
    "pi = 3.14\n",
    "temperature = -5.5\n",
    "print(\"data type of variable age = \", type(age))\n",
    "print(\"data type of variable pi = \", type(pi))\n",
    "print(\"data type of variable temperature = \", type(temperature))"
   ]
  },
  {
   "cell_type": "code",
   "execution_count": 8,
   "id": "3428ba1b-e6d3-45f2-92f1-216bdc30607b",
   "metadata": {},
   "outputs": [
    {
     "name": "stdout",
     "output_type": "stream",
     "text": [
      "data type of the variable name =  <class 'str'>\n",
      "data type of the variable greeting =  <class 'str'>\n",
      "data type of the variable address =  <class 'str'>\n",
      "The first letter of the name is: A\n",
      "The last letter of the name is: e\n",
      "The secod letter to the fourth of the name is: lic\n",
      "The first two letter of the name are: Al\n",
      "Substring starting from the third letter is: ice\n"
     ]
    }
   ],
   "source": [
    "name = \"Alice\"\n",
    "greeting = \"Hello\"\n",
    "address = \"123 Main St\"\n",
    "print(\"data type of the variable name = \", type(name))\n",
    "print(\"data type of the variable greeting = \", type(greeting))\n",
    "print(\"data type of the variable address = \", type(address))\n",
    "# slice only one element\n",
    "print(\"The first letter of the name is:\", name[0])\n",
    "print(\"The last letter of the name is:\", name[-1])\n",
    "# slice a range of elemets\n",
    "print (\"The secod letter to the fourth of the name is:\", name[1:4])\n",
    "print (\"The first two letter of the name are:\", name[:2])\n",
    "print (\"Substring starting from the third letter is:\", name[2:])"
   ]
  },
  {
   "cell_type": "code",
   "execution_count": 10,
   "id": "6a512ab0-36fa-4027-8234-6d789a0b58f9",
   "metadata": {},
   "outputs": [
    {
     "data": {
      "text/plain": [
       "[False, 'Hello', True]"
      ]
     },
     "execution_count": 10,
     "metadata": {},
     "output_type": "execute_result"
    }
   ],
   "source": [
    "list1 = [1, 2, 3, 4]\n",
    "mixed_list = [12, \"Hello\", True]\n",
    "# List is mutable\n",
    "mixed_list[0] = False\n",
    "mixed_list"
   ]
  },
  {
   "cell_type": "code",
   "execution_count": 13,
   "id": "0df7f5d0-f7c1-47bc-acb5-5da3c31eb134",
   "metadata": {},
   "outputs": [
    {
     "name": "stdout",
     "output_type": "stream",
     "text": [
      "First element: red\n",
      "Last two elements: ('yellow', 'blue')\n",
      "Middle two elements: ('green', 'yellow')\n"
     ]
    },
    {
     "ename": "TypeError",
     "evalue": "'tuple' object does not support item assignment",
     "output_type": "error",
     "traceback": [
      "\u001b[1;31m---------------------------------------------------------------------------\u001b[0m",
      "\u001b[1;31mTypeError\u001b[0m                                 Traceback (most recent call last)",
      "Cell \u001b[1;32mIn[13], line 5\u001b[0m\n\u001b[0;32m      3\u001b[0m \u001b[38;5;28mprint\u001b[39m(\u001b[38;5;124m\"\u001b[39m\u001b[38;5;124mLast two elements:\u001b[39m\u001b[38;5;124m\"\u001b[39m, colors[\u001b[38;5;241m2\u001b[39m:])\n\u001b[0;32m      4\u001b[0m \u001b[38;5;28mprint\u001b[39m(\u001b[38;5;124m\"\u001b[39m\u001b[38;5;124mMiddle two elements:\u001b[39m\u001b[38;5;124m\"\u001b[39m, colors[\u001b[38;5;241m1\u001b[39m:\u001b[38;5;241m3\u001b[39m])\n\u001b[1;32m----> 5\u001b[0m \u001b[43mcolors\u001b[49m\u001b[43m[\u001b[49m\u001b[38;5;241;43m0\u001b[39;49m\u001b[43m]\u001b[49m \u001b[38;5;241m=\u001b[39m \u001b[38;5;124m'\u001b[39m\u001b[38;5;124mpurple\u001b[39m\u001b[38;5;124m'\u001b[39m\n\u001b[0;32m      6\u001b[0m colors\n",
      "\u001b[1;31mTypeError\u001b[0m: 'tuple' object does not support item assignment"
     ]
    }
   ],
   "source": [
    "colors = ('red','green', 'yellow', 'blue')\n",
    "print(\"First element:\", colors[0])\n",
    "print(\"Last two elements:\", colors[2:])\n",
    "print(\"Middle two elements:\", colors[1:3])\n",
    "colors[0] = 'purple'\n",
    "colors"
   ]
  },
  {
   "cell_type": "code",
   "execution_count": 16,
   "id": "a1805e3c-dd0b-46b9-bee6-ea9185ef35e9",
   "metadata": {},
   "outputs": [
    {
     "name": "stdout",
     "output_type": "stream",
     "text": [
      "Hello my name is John. I am 30 years old and I live at Pittsburgh.\n",
      "All keys: ['name', 'age', 'city']\n",
      "All values: ['John', 30, 'Pittsburgh']\n"
     ]
    }
   ],
   "source": [
    "person = {'name':'John', 'age':30, 'city':'Pittsburgh'}\n",
    "print(f\"Hello my name is {person['name']}. I am {person['age']} years old and I live at {person['city']}.\")\n",
    "print(\"All keys:\", list(person.keys()))\n",
    "print(\"All values:\", list(person.values()))"
   ]
  },
  {
   "cell_type": "code",
   "execution_count": 18,
   "id": "84f79e25-bf69-4e83-afde-9ac7d339cd2f",
   "metadata": {},
   "outputs": [
    {
     "data": {
      "text/plain": [
       "{1, 2, 3, 4, 5}"
      ]
     },
     "execution_count": 18,
     "metadata": {},
     "output_type": "execute_result"
    }
   ],
   "source": [
    "unique_numbers = {1,2,3,3,3,3,4,5}\n",
    "unique_numbers"
   ]
  },
  {
   "cell_type": "code",
   "execution_count": 19,
   "id": "06810039-4263-4a74-bddd-a08ccf65831e",
   "metadata": {},
   "outputs": [
    {
     "name": "stdout",
     "output_type": "stream",
     "text": [
      "data type of the variable is_student =  <class 'bool'>\n",
      "data type of the variable has_license =  <class 'bool'>\n"
     ]
    }
   ],
   "source": [
    "is_student = True\n",
    "has_license = False\n",
    "print(\"data type of the variable is_student = \", type(is_student))\n",
    "print(\"data type of the variable has_license = \", type(has_license))"
   ]
  },
  {
   "cell_type": "code",
   "execution_count": 22,
   "id": "42bd902e-c997-4f0b-b890-98527ca02e27",
   "metadata": {},
   "outputs": [
    {
     "name": "stdout",
     "output_type": "stream",
     "text": [
      "None\n"
     ]
    }
   ],
   "source": [
    "result = None\n",
    "print (result)"
   ]
  },
  {
   "cell_type": "code",
   "execution_count": null,
   "id": "bb17648e-a4f8-4048-9092-3bf7a2d46724",
   "metadata": {},
   "outputs": [],
   "source": []
  }
 ],
 "metadata": {
  "kernelspec": {
   "display_name": "Python 3 (ipykernel)",
   "language": "python",
   "name": "python3"
  },
  "language_info": {
   "codemirror_mode": {
    "name": "ipython",
    "version": 3
   },
   "file_extension": ".py",
   "mimetype": "text/x-python",
   "name": "python",
   "nbconvert_exporter": "python",
   "pygments_lexer": "ipython3",
   "version": "3.13.2"
  }
 },
 "nbformat": 4,
 "nbformat_minor": 5
}
