{
  "nbformat": 4,
  "nbformat_minor": 0,
  "metadata": {
    "colab": {
      "provenance": []
    },
    "kernelspec": {
      "name": "python3",
      "display_name": "Python 3"
    },
    "language_info": {
      "name": "python"
    }
  },
  "cells": [
    {
      "cell_type": "markdown",
      "source": [
        "## 4. TO - DO - Task\n",
        "Please complete all the problem listed below."
      ],
      "metadata": {
        "id": "w0fxQnlqe5J6"
      }
    },
    {
      "cell_type": "markdown",
      "source": [
        "### 4.1 Exercise on Functions:\n",
        "Task - 1:\n",
        "\n",
        "Create a Python program that converts between different units of measurement.\n",
        "• The program should:\n",
        "1. Prompt the user to choose the type of conversion (e.g., length, weight, volume).\n",
        "2. Ask the user to input the value to be converted.\n",
        "3. Perform the conversion and display the result.\n",
        "4. Handle potential errors, such as invalid input or unsupported conversion types.\n",
        "• Requirements:\n",
        "1. Functions: Define at least one function to perform the conversion.\n",
        "2. Error Handling: Use try-except blocks to handle invalid input (e.g., non-numeric values).\n",
        "3. User Input: Prompt the user to select the conversion type and input the value.\n",
        "4. Docstrings: Include a docstring in your function to describe its purpose, parameters, and\n",
        "return value.\n",
        "- Conversion Options:\n",
        "1. Length:\n",
        "- Convert meters (m) to feet (ft).\n",
        "- Convert feet (ft) to meters (m).\n",
        "2. Weight:\n",
        "- Convert kilograms (kg) to pounds (lbs).\n",
        "- Convert pounds (lbs) to kilograms (kg).\n",
        "3. Volume:\n",
        "- Convert liters (L) to gallons (gal).\n",
        "- Convert gallons (gal) to liters (L)."
      ],
      "metadata": {
        "id": "6oiG8dgIfE7m"
      }
    },
    {
      "cell_type": "code",
      "execution_count": null,
      "metadata": {
        "colab": {
          "base_uri": "https://localhost:8080/"
        },
        "id": "EE4NAh7ReWWn",
        "outputId": "244cdaa7-1af3-4c03-eff2-a2e7c21d1498"
      },
      "outputs": [
        {
          "output_type": "stream",
          "name": "stdout",
          "text": [
            "\n",
            "Choose conversion type:\n",
            "1. Length (meters to feet, feet to meters)\n",
            "2. weight (kilograms to pounds, pounds to kilograms)\n",
            "3. Volume (liters to gallons, gallons to liters)\n",
            "0. Exit Program\n",
            "Enter your choice (1/2/3/0): 1\n",
            "Enter the unit (m/ft): asdasd\n",
            "Enter the value to convert: 25\n",
            "Invalid unit\n",
            "Error:  unsupported format string passed to NoneType.__format__\n",
            "\n",
            "Choose conversion type:\n",
            "1. Length (meters to feet, feet to meters)\n",
            "2. weight (kilograms to pounds, pounds to kilograms)\n",
            "3. Volume (liters to gallons, gallons to liters)\n",
            "0. Exit Program\n",
            "Enter your choice (1/2/3/0): 1\n",
            "Enter the unit (m/ft): m\n",
            "Enter the value to convert: asdasdasd\n",
            "Error:  could not convert string to float: 'asdasdasd'\n",
            "\n",
            "Choose conversion type:\n",
            "1. Length (meters to feet, feet to meters)\n",
            "2. weight (kilograms to pounds, pounds to kilograms)\n",
            "3. Volume (liters to gallons, gallons to liters)\n",
            "0. Exit Program\n",
            "Enter your choice (1/2/3/0): 1\n",
            "Enter the unit (m/ft): m\n",
            "Enter the value to convert: 25\n",
            "Converted value: 82.02 ft\n",
            "\n",
            "Choose conversion type:\n",
            "1. Length (meters to feet, feet to meters)\n",
            "2. weight (kilograms to pounds, pounds to kilograms)\n",
            "3. Volume (liters to gallons, gallons to liters)\n",
            "0. Exit Program\n",
            "Enter your choice (1/2/3/0): 3\n",
            "Enter the unit (l/gal): l\n",
            "Enter the value to convert: 25\n",
            "Converted value: 6.60 gal\n",
            "\n",
            "Choose conversion type:\n",
            "1. Length (meters to feet, feet to meters)\n",
            "2. weight (kilograms to pounds, pounds to kilograms)\n",
            "3. Volume (liters to gallons, gallons to liters)\n",
            "0. Exit Program\n",
            "Enter your choice (1/2/3/0): 0\n",
            "Goodbye!\n"
          ]
        }
      ],
      "source": [
        "def length_conversion (value, unit):\n",
        "  '''\n",
        "  Convert length between meter and feet\n",
        "\n",
        "  Parameters:\n",
        "      value (int): Numberic value to be converted\n",
        "      unit(string): Unit of the input value\n",
        "\n",
        "  Returns:\n",
        "      Converted value.\n",
        "  '''\n",
        "  try:\n",
        "    if unit == \"m\":\n",
        "      return value * 3.28084\n",
        "    elif unit == \"ft\":\n",
        "      return value / 3.28084\n",
        "    else:\n",
        "      print(\"Invalid unit\")\n",
        "  except ValueError as e:\n",
        "    print(f\"Error: {e}\")\n",
        "\n",
        "def weight_conversion(value, unit):\n",
        "  '''\n",
        "  Convert weight between kilograms and pounds\n",
        "\n",
        "  Parameters:\n",
        "      value (int): Numeric value to be converted\n",
        "      unit(string): unit of the input value\n",
        "\n",
        "  Returns:\n",
        "      Converted value\n",
        "  '''\n",
        "  try:\n",
        "    if unit == \"kg\":\n",
        "      return value * 2.20462\n",
        "    elif unit == \"lbs\":\n",
        "      return value / 2.20462\n",
        "    else:\n",
        "      print(\"Invalid unit\")\n",
        "  except ValueError as e:\n",
        "    print(f\"Error: {e}\")\n",
        "\n",
        "def volume_conversion(value, unit):\n",
        "  '''\n",
        "  Convert volume between liters and gallons.\n",
        "\n",
        "  Parameters:\n",
        "    value (int): Numeric value to be converted\n",
        "    unit(string): unit of the input value\n",
        "\n",
        "  Returns:\n",
        "    Converted value\n",
        "  '''\n",
        "  try:\n",
        "    if unit == 'l':\n",
        "      return value * 0.264172\n",
        "    elif unit == 'gal':\n",
        "      return value / 0.264172\n",
        "    else:\n",
        "      print(\"Invalid unit\")\n",
        "  except ValueError as e:\n",
        "    print(\"Error: \", e)\n",
        "\n",
        "def main():\n",
        "  '''\n",
        "  Main function to handle user input and perform conversions.\n",
        "\n",
        "  '''\n",
        "  while True:\n",
        "    try:\n",
        "      print(\"\\nChoose conversion type:\")\n",
        "      print(\"1. Length (meters to feet, feet to meters)\")\n",
        "      print(\"2. weight (kilograms to pounds, pounds to kilograms)\")\n",
        "      print(\"3. Volume (liters to gallons, gallons to liters)\")\n",
        "      print(\"0. Exit Program\")\n",
        "\n",
        "      choice = input (\"Enter your choice (1/2/3/0): \").strip()\n",
        "      if choice == '0':\n",
        "        print(\"Goodbye!\")\n",
        "        break\n",
        "\n",
        "      if choice == '1':\n",
        "        unit = input(\"Enter the unit (m/ft): \").strip().lower()\n",
        "        value = float(input(\"Enter the value to convert: \"))\n",
        "        result = length_conversion(value, unit)\n",
        "        unit_to_be = 'ft' if unit == 'm' else 'm'\n",
        "\n",
        "      elif choice == '2':\n",
        "        unit = input(\"Enter th unit (kg/lbs): \").strip().lower()\n",
        "        value = float(input(\"Enter the value to convert: \"))\n",
        "        result = weight_conversion(value, unit)\n",
        "        unit_to_be = 'lbs' if unit == 'kg' else 'kg'\n",
        "\n",
        "      elif choice == '3':\n",
        "        unit = input(\"Enter the unit (l/gal): \").strip().lower()\n",
        "        value = float(input(\"Enter the value to convert: \"))\n",
        "        result = volume_conversion(value, unit)\n",
        "        unit_to_be = 'gal' if unit == 'l' else 'l'\n",
        "\n",
        "      else:\n",
        "        print(\"Invalid choice. Please select 1, 2 or 3.\")\n",
        "        return\n",
        "\n",
        "      print(f\"Converted value: {result:.2f} {unit_to_be}\")\n",
        "\n",
        "    except (ValueError, TypeError) as e:\n",
        "      print(\"Error: \", e)\n",
        "\n",
        "if __name__ == \"__main__\":\n",
        "  main()\n",
        "\n"
      ]
    },
    {
      "cell_type": "markdown",
      "source": [
        "Task - 2:\n",
        "Create a Python program that performs various mathematical operations on a list of numbers.\n",
        "• The Program should:\n",
        "1. Prompt the user to choose an operation (e.g., find the sum, average, maximum, or minimum\n",
        "of the numbers).\n",
        "2. Ask the user to input a list of numbers (separated by spaces).\n",
        "\n",
        "3. Perform the selected operation and display the result.\n",
        "4. Handle potential errors, such as invalid input or empty lists.\n",
        "• Requirements:\n",
        "\n",
        "1. Functions: Define at least one function for each operation (sum, average, maximum, mini-\n",
        "mum).\n",
        "\n",
        "2. Error Handling: Use try-except blocks to handle invalid input (e.g., non-numeric values or\n",
        "empty lists).\n",
        "3. User Input: Prompt the user to select the operation and input the list of numbers.\n",
        "4. Docstrings: Include a docstring in each function to describe its purpose, parameters, and\n",
        "return value."
      ],
      "metadata": {
        "id": "N6ra2RT1uExk"
      }
    },
    {
      "cell_type": "code",
      "source": [
        "def list_num():\n",
        "  ''''\n",
        "  Get a list of number from the user and return it\n",
        "  '''\n",
        "  try:\n",
        "    number = list(map(int, input(\"Enter a list of numbers separated by spaces: \").split()))\n",
        "    if len(number) == 0:\n",
        "      raise ValueError(\"The list cannot be empty.\")\n",
        "    return number\n",
        "  except ValueError:\n",
        "    print(\"Invalid input. Please enter only numbers.\")\n",
        "    return list_num()\n",
        "\n",
        "def main():\n",
        "  '''\n",
        "  Main function for user choice\n",
        "  '''\n",
        "  while True:\n",
        "    try:\n",
        "      print (\"\\nChoose an operation\")\n",
        "      print(\"1. Sum\")\n",
        "      print(\"2. Average\")\n",
        "      print(\"3. Maximum\")\n",
        "      print(\"4. Minimum\")\n",
        "      print(\"0. Quit\")\n",
        "\n",
        "      choice = input(\"Enter choice (1-4)\")\n",
        "\n",
        "      if choice == \"0\":\n",
        "        print(\"Goodbye!\")\n",
        "        break\n",
        "\n",
        "      numbers = list_num()\n",
        "\n",
        "      if choice == \"1\":\n",
        "        print(\"Sum: \", sum(numbers))\n",
        "      elif choice == \"2\":\n",
        "        print(\"Average: \", sum(numbers)/len(numbers))\n",
        "      elif choice == \"3\":\n",
        "        print(\"Maximum: \", max(numbers))\n",
        "      elif choice == \"4\":\n",
        "        print(\"Minimum: \", min(numbers))\n",
        "      else:\n",
        "        print(\"Invalid choice. Please try again.\")\n",
        "    except ValueError as e:\n",
        "      print(\"Error: \",e)\n",
        "\n",
        "if __name__ == \"__main__\":\n",
        "  main()\n"
      ],
      "metadata": {
        "id": "uO46-gEHlR-t",
        "colab": {
          "base_uri": "https://localhost:8080/"
        },
        "outputId": "21d368f8-fc12-4070-9f99-0d97c0034596"
      },
      "execution_count": null,
      "outputs": [
        {
          "output_type": "stream",
          "name": "stdout",
          "text": [
            "\n",
            "Choose an operation\n",
            "1. Sum\n",
            "2. Average\n",
            "3. Maximum\n",
            "4. Minimum\n",
            "0. Quit\n",
            "Enter choice (1-4)asdas\n",
            "Enter a list of numbers separated by spaces: 1 2 3 4 5\n",
            "Invalid choice. Please try again.\n",
            "\n",
            "Choose an operation\n",
            "1. Sum\n",
            "2. Average\n",
            "3. Maximum\n",
            "4. Minimum\n",
            "0. Quit\n",
            "Enter choice (1-4)1\n",
            "Enter a list of numbers separated by spaces: asdasdasd\n",
            "Invalid input. Please enter only numbers.\n",
            "Enter a list of numbers separated by spaces: 1 2 3 4 5\n",
            "Sum:  15\n",
            "\n",
            "Choose an operation\n",
            "1. Sum\n",
            "2. Average\n",
            "3. Maximum\n",
            "4. Minimum\n",
            "0. Quit\n",
            "Enter choice (1-4)0\n",
            "Goodbye!\n"
          ]
        }
      ]
    },
    {
      "cell_type": "markdown",
      "source": [
        "## 4.2 Exercise on List Manipulation:\n",
        "### 1. Extract Every Other Element:\n",
        "\n",
        "Write a Python function that extracts every other element from a list, starting from the first element.\n",
        "- Requirements:\n",
        " - Define a function extract every other(lst) that takes a list lst as input and returns a\n",
        "new list containing every other element from the original list.\n",
        " - Example: For the input [1, 2, 3, 4, 5, 6], the output should be [1, 3, 5]."
      ],
      "metadata": {
        "id": "QQV0M2ZA1K2x"
      }
    },
    {
      "cell_type": "code",
      "source": [
        "def extract_element(lst):\n",
        "  '''\n",
        "  Take list and extract every other element\n",
        "  '''\n",
        "  return lst[::2]\n",
        "\n",
        "example_list = [1,2,3,4,5,6]\n",
        "result = extract_element(example_list)\n",
        "print(result)"
      ],
      "metadata": {
        "id": "Pwq5_11Neerg",
        "colab": {
          "base_uri": "https://localhost:8080/"
        },
        "outputId": "04cfe99e-5f39-4504-a7ab-08e7344b4621"
      },
      "execution_count": null,
      "outputs": [
        {
          "output_type": "stream",
          "name": "stdout",
          "text": [
            "[1, 3, 5]\n"
          ]
        }
      ]
    },
    {
      "cell_type": "markdown",
      "source": [
        "### 2. Slice a Sublist:\n",
        "Write a Python function that returns a sublist from a given list, starting from a specified index and\n",
        "ending at another specified index.\n",
        "\n",
        "• Requirements:\n",
        "\n",
        "- Define a function get sublist(lst, start, end) that takes a list lst, a starting index\n",
        "start, and an ending index end as input and returns the sublist from start to end (inclusive).\n",
        "- Example: For the input [1, 2, 3, 4, 5, 6] with start=2 and end=4, the output should\n",
        "be [3, 4, 5]."
      ],
      "metadata": {
        "id": "rzc8n9Cd3JlX"
      }
    },
    {
      "cell_type": "code",
      "source": [
        "def slice_list(lst, start, end):\n",
        "  '''\n",
        "  Return sliced list\n",
        "\n",
        "  Parameter:\n",
        "    lst: list to be sliced\n",
        "    start: starting index, from where the list should be sliced\n",
        "    end: ending index, till where the list should be sliced\n",
        "  '''\n",
        "  return lst[start:end+1]\n",
        "\n",
        "lists2 = list(map(int, input(\"Enter a list of numbers separated by spaces: \").split()))\n",
        "start_index = int(input(\"Enter the starting index for slicing: \"))\n",
        "end_index = int(input(\"Enter the ending index for slicing: \"))\n",
        "print(slice_list(lists2, start_index, end_index))"
      ],
      "metadata": {
        "colab": {
          "base_uri": "https://localhost:8080/"
        },
        "id": "ZTvH5Mm33Y7g",
        "outputId": "6bff83d0-9feb-4608-b48c-5da94f8f611a"
      },
      "execution_count": null,
      "outputs": [
        {
          "output_type": "stream",
          "name": "stdout",
          "text": [
            "Enter a list of numbers separated by spaces: 1 2 3 4 5 6\n",
            "Enter the starting index for slicing: 2\n",
            "Enter the ending index for slicing: 4\n",
            "[3, 4, 5]\n"
          ]
        }
      ]
    },
    {
      "cell_type": "markdown",
      "source": [
        "### 3. Reverse a List Using Slicing:\n",
        "Write a Python function that reverses a list using slicing.\n",
        "\n",
        "• Requirements:\n",
        "- Define a function reverse list(lst) that takes a list lst and returns a reversed list using\n",
        "slicing.\n",
        "- Example: For the input [1, 2, 3, 4, 5], the output should be [5, 4, 3, 2, 1]."
      ],
      "metadata": {
        "id": "x9bwF0887kuc"
      }
    },
    {
      "cell_type": "code",
      "source": [
        "def reverse_list(lst):\n",
        "  '''\n",
        "  Reverse the order of the list\n",
        "  '''\n",
        "  return lst[::-1]\n",
        "\n",
        "list3 = [1, 2, 3, 4, 5]\n",
        "print(reverse_list(list3))"
      ],
      "metadata": {
        "colab": {
          "base_uri": "https://localhost:8080/"
        },
        "id": "fXgTbcj57v78",
        "outputId": "0dd60247-6620-4434-fba4-11fad1feb8b3"
      },
      "execution_count": null,
      "outputs": [
        {
          "output_type": "stream",
          "name": "stdout",
          "text": [
            "[5, 4, 3, 2, 1]\n"
          ]
        }
      ]
    },
    {
      "cell_type": "markdown",
      "source": [
        "### 4. Remove the First and Last Elements:\n",
        "Write a Python function that removes the first and last elements of a list and returns the resulting\n",
        "sublist.\n",
        "\n",
        "• Requirements:\n",
        "- Define a function remove first last(lst) that takes a list lst and returns a sublist without\n",
        "the first and last elements using slicing.\n",
        "- Example: For the input [1, 2, 3, 4, 5], the output should be [2, 3, 4]."
      ],
      "metadata": {
        "id": "2XQH3auJ828R"
      }
    },
    {
      "cell_type": "code",
      "source": [
        "def sublist(lst):\n",
        "  '''\n",
        "  Returning sublist with list as parameter\n",
        "  '''\n",
        "  return lst[1:-1]\n",
        "\n",
        "lst1 = [1, 2, 3, 4, 5]\n",
        "print(sublist(lst1))"
      ],
      "metadata": {
        "colab": {
          "base_uri": "https://localhost:8080/"
        },
        "id": "wL3Www729SEQ",
        "outputId": "bce2fea7-bb82-4e6c-9e1a-222703ce0167"
      },
      "execution_count": null,
      "outputs": [
        {
          "output_type": "stream",
          "name": "stdout",
          "text": [
            "[2, 3, 4]\n"
          ]
        }
      ]
    },
    {
      "cell_type": "markdown",
      "source": [
        "### 5. Get the First n Elements:\n",
        "Write a Python function that extracts the first n elements from a list.\n",
        "\n",
        "• Requirements:\n",
        "- Define a function get first n(lst, n) that takes a list lst and an integer n as input and\n",
        "returns the first n elements of the list using slicing.\n",
        "- Example: For the input [1, 2, 3, 4, 5] with n=3, the output should be [1, 2, 3]."
      ],
      "metadata": {
        "id": "6t2C0Quu93T-"
      }
    },
    {
      "cell_type": "code",
      "source": [
        "def first_n(lst, n):\n",
        "  '''\n",
        "  Return the first n elements of the list\n",
        "\n",
        "  Parameters:\n",
        "    lst: numerical list\n",
        "    n: n elements\n",
        "  '''\n",
        "  return lst[:n]\n",
        "\n",
        "lst2 = list(map(int, input(\"Enter the number with spaces: \").split()))\n",
        "n = int(input(\"Enter the number of elements to be extracted: \"))\n",
        "print(first_n(lst2,n))"
      ],
      "metadata": {
        "colab": {
          "base_uri": "https://localhost:8080/"
        },
        "id": "iIdVYTA-9-X6",
        "outputId": "e070ef0e-06fb-460a-cfae-2a29737f2053"
      },
      "execution_count": null,
      "outputs": [
        {
          "output_type": "stream",
          "name": "stdout",
          "text": [
            "Enter the number with spaces: 1 2 3 4 5\n",
            "Enter the number of elements to be extracted: 3\n",
            "[1, 2, 3]\n"
          ]
        }
      ]
    },
    {
      "cell_type": "markdown",
      "source": [
        "### 6. Extract Elements from the End:\n",
        "Write a Python function that extracts the last n elements of a list using slicing.\n",
        "\n",
        "• Requirements:\n",
        "- Define a function get last n(lst, n) that takes a list lst and an integer n as input and\n",
        "returns the last n elements of the list.\n",
        "- Example: For the input [1, 2, 3, 4, 5] with n=2, the output should be [4, 5]."
      ],
      "metadata": {
        "id": "0ckQWy9C_cje"
      }
    },
    {
      "cell_type": "code",
      "source": [
        "def last_n(lst, n):\n",
        "  '''\n",
        "  Return the last n element of the list\n",
        "\n",
        "  Parameters:\n",
        "    lst: numerical list\n",
        "    n: n elements\n",
        "  '''\n",
        "  return lst[-n:]\n",
        "\n",
        "\n",
        "lst2 = list(map(int, input(\"Enter the number with spaces: \").split()))\n",
        "n = int(input(\"Enter the number of elements to be extracted: \"))\n",
        "print(last_n(lst3, n))"
      ],
      "metadata": {
        "colab": {
          "base_uri": "https://localhost:8080/"
        },
        "id": "BRk54g6e_mFz",
        "outputId": "52aa0673-7d67-47d1-bcf0-d8358299939f"
      },
      "execution_count": null,
      "outputs": [
        {
          "output_type": "stream",
          "name": "stdout",
          "text": [
            "Enter the number with spaces: 1 2 3 4 5 \n",
            "Enter the number of elements to be extracted: 2\n",
            "[4, 5]\n"
          ]
        }
      ]
    },
    {
      "cell_type": "markdown",
      "source": [
        "### 7. Extract Elements in Reverse Order:\n",
        "Write a Python function that extracts a list of elements in reverse order starting from the second-to-last\n",
        "element and skipping one element in between.\n",
        "\n",
        "• Requirements:\n",
        "- Define a function reverse skip(lst) that takes a list lst and returns a new list containing\n",
        "every second element starting from the second-to-last, moving backward.\n",
        "- Example: For the input [1, 2, 3, 4, 5, 6], the output should be [5, 3, 1]."
      ],
      "metadata": {
        "id": "IrIgjtlhAN3D"
      }
    },
    {
      "cell_type": "code",
      "source": [
        "def reverse_skip(lst):\n",
        "  '''\n",
        "  Return a list containing every second element in reverse\n",
        "\n",
        "  Parameters:\n",
        "    lst: Input list.\n",
        "\n",
        "  '''\n",
        "  return lst [-2::-2]\n",
        "\n",
        "lst4 = [1,2,3,4,5,6]\n",
        "print(reverse_skip(lst4))"
      ],
      "metadata": {
        "colab": {
          "base_uri": "https://localhost:8080/"
        },
        "id": "HOv1hFekAWIO",
        "outputId": "971da7b6-3517-4d19-ffdb-990b2e21f413"
      },
      "execution_count": null,
      "outputs": [
        {
          "output_type": "stream",
          "name": "stdout",
          "text": [
            "[5, 3, 1]\n"
          ]
        }
      ]
    },
    {
      "cell_type": "markdown",
      "source": [
        "4.3 Exercise on Nested List:\n",
        "1. Flatten a Nested List:\n",
        "Write a Python function that takes a nested list and flattens it into a single list, where all the elements\n",
        "are in a single dimension.\n",
        "\n",
        "• Requirements:\n",
        "\n",
        "- Define a function flatten(lst) that takes a nested list lst and returns a flattened version\n",
        "of the list.\n",
        "\n",
        "- Example: For the input [[1, 2], [3, 4], [5]], the output should be [1, 2, 3, 4, 5]."
      ],
      "metadata": {
        "id": "KgHHGFYFBTXf"
      }
    },
    {
      "cell_type": "code",
      "source": [
        "def flatten(lst):\n",
        "  '''\n",
        "  Flatten a nested list into a single list.\n",
        "\n",
        "  Parameters:\n",
        "    lst: The nested list.\n",
        "  '''\n",
        "  flat_list = []\n",
        "  for sublist in lst:\n",
        "    flat_list.extend(sublist)\n",
        "  return flat_list\n",
        "\n",
        "example_list = [[1, 2], [3, 4], [5]]\n",
        "print(flatten(example_list))"
      ],
      "metadata": {
        "colab": {
          "base_uri": "https://localhost:8080/"
        },
        "id": "qfc8u-vKCBhw",
        "outputId": "f5e392d3-ea5d-42cf-de32-933b0b75e737"
      },
      "execution_count": null,
      "outputs": [
        {
          "output_type": "stream",
          "name": "stdout",
          "text": [
            "[1, 2, 3, 4, 5]\n"
          ]
        }
      ]
    },
    {
      "cell_type": "markdown",
      "source": [
        "2. Accessing Nested List Elements:\n",
        "Write a Python function that extracts a specific element from a nested list given its indices.\n",
        "\n",
        "• Requirements:\n",
        "- Define a function access nested element(lst, indices) that takes a nested list lst and\n",
        "a list of indices indices, and returns the element at that position.\n",
        "- Example: For the input lst = [[1, 2, 3], [4, 5, 6], [7, 8, 9]] with indices = [1,\n",
        "2], the output should be 6."
      ],
      "metadata": {
        "id": "aE2GSRTeC6NO"
      }
    },
    {
      "cell_type": "code",
      "source": [
        "def nested_element(lst, indices):\n",
        "  '''\n",
        "  Extracts a specific element from nested list given its indices.\n",
        "\n",
        "  Parameters:\n",
        "    lst : the nested list\n",
        "    indices : Position to access\n",
        "  '''\n",
        "  for index in indices:\n",
        "    lst = lst[index]\n",
        "  return lst\n",
        "\n",
        "lst = [[1, 2, 3], [4, 5, 6], [7, 8, 9]]\n",
        "indices =[1,2]\n",
        "print(nested_element(lst, indices))"
      ],
      "metadata": {
        "colab": {
          "base_uri": "https://localhost:8080/"
        },
        "id": "HGS51dxUC5E2",
        "outputId": "bc708fd6-6be2-4d3a-f2da-43de04a27662"
      },
      "execution_count": null,
      "outputs": [
        {
          "output_type": "stream",
          "name": "stdout",
          "text": [
            "6\n"
          ]
        }
      ]
    },
    {
      "cell_type": "markdown",
      "source": [
        "3. Sum of All Elements in a Nested List:\n",
        "Write a Python function that calculates the sum of all the numbers in a nested list (regardless of depth).\n",
        "\n",
        "• Requirements:\n",
        "- Define a function sum nested(lst) that takes a nested list lst and returns the sum of all\n",
        "the elements.\n",
        "- Example: For the input [[1, 2], [3, [4, 5]], 6], the output should be 21."
      ],
      "metadata": {
        "id": "te1UuV4ZD1fL"
      }
    },
    {
      "cell_type": "code",
      "source": [
        "def sum_element(lst):\n",
        "  '''\n",
        "  Sum all element in the nested list\n",
        "\n",
        "  Parameter:\n",
        "    lst: list to be summed\n",
        "  '''\n",
        "  sum = 0\n",
        "  for lsts in lst:\n",
        "    if isinstance(lsts, list):\n",
        "      sum += sum_element(lsts)\n",
        "    else:\n",
        "      sum = sum + lsts\n",
        "  return sum\n",
        "lst = [[1, 2], [3, [4, 5]], 6]\n",
        "print(sum_element(lst))"
      ],
      "metadata": {
        "colab": {
          "base_uri": "https://localhost:8080/"
        },
        "id": "NZ_OVt4bD5Wx",
        "outputId": "8993906d-c653-4bfc-9c4e-2504ab19a79a"
      },
      "execution_count": null,
      "outputs": [
        {
          "output_type": "stream",
          "name": "stdout",
          "text": [
            "21\n"
          ]
        }
      ]
    },
    {
      "cell_type": "markdown",
      "source": [
        "4. Remove Specific Element from a Nested List:\n",
        "Write a Python function that removes all occurrences of a specific element from a nested list.\n",
        "\n",
        "• Requirements:\n",
        "- Define a function remove element(lst, elem) that removes elem from lst and returns the\n",
        "modified list.\n",
        "- Example: For the input lst = [[1, 2], [3, 2], [4, 5]] and elem = 2, the output should\n",
        "be [[1], [3], [4, 5]]."
      ],
      "metadata": {
        "id": "9Ofn6KKwFIGu"
      }
    },
    {
      "cell_type": "code",
      "source": [
        "def remove_element(lst, elem):\n",
        "  '''\n",
        "  Remove specific element from the list\n",
        "\n",
        "  Parameter:\n",
        "    lst: The nested list\n",
        "    elem: The element to remove\n",
        "\n",
        "  Returns:\n",
        "    A new list with removed element\n",
        "  '''\n",
        "  result = []\n",
        "  for item in lst:\n",
        "    if (isinstance(item, list)):\n",
        "      sublist = remove_element(item, elem)\n",
        "      result.append(sublist)\n",
        "    elif item != elem:\n",
        "      result.append(item)\n",
        "  return result\n",
        "\n",
        "lst =  [[1, 2], [3, 2], [4, 5]]\n",
        "elem = 2\n",
        "\n",
        "print(remove_element(lst, elem))"
      ],
      "metadata": {
        "colab": {
          "base_uri": "https://localhost:8080/"
        },
        "id": "CGGfd4yoFNVg",
        "outputId": "546437da-6a00-4b58-a251-dd358df195ac"
      },
      "execution_count": null,
      "outputs": [
        {
          "output_type": "stream",
          "name": "stdout",
          "text": [
            "[[1], [3], [4, 5]]\n"
          ]
        }
      ]
    },
    {
      "cell_type": "markdown",
      "source": [
        "5. Find the Maximum Element in a Nested List:\n",
        "Write a Python function that finds the maximum element in a nested list (regardless of depth).\n",
        "\n",
        "• Requirements:\n",
        "- Define a function find max(lst) that takes a nested list lst and returns the maximum\n",
        "element.\n",
        "- Example: For the input [[1, 2], [3, [4, 5]], 6], the output should be 6."
      ],
      "metadata": {
        "id": "02RRM58lIVm9"
      }
    },
    {
      "cell_type": "code",
      "source": [
        "def find_max(lst):\n",
        "  '''\n",
        "  Find the maximum element in the list\n",
        "\n",
        "  Parameters:\n",
        "    lst: A List\n",
        "\n",
        "  Returns:\n",
        "    The maximum number from the list\n",
        "  '''\n",
        "  current_max = None\n",
        "  for item in lst:\n",
        "    if isinstance (item, list):\n",
        "      value = find_max(item)\n",
        "    else:\n",
        "      value = item\n",
        "\n",
        "    if current_max is None or value > current_max:\n",
        "      current_max = value\n",
        "  return current_max\n",
        "\n",
        "lst = [[1, 2], [3, [4, 5]], 6]\n",
        "print(find_max(lst))"
      ],
      "metadata": {
        "colab": {
          "base_uri": "https://localhost:8080/"
        },
        "id": "KypjdiGIIYzO",
        "outputId": "0acc68a8-fe9e-42f5-eacd-7bf1f9d94e72"
      },
      "execution_count": null,
      "outputs": [
        {
          "output_type": "stream",
          "name": "stdout",
          "text": [
            "6\n"
          ]
        }
      ]
    },
    {
      "cell_type": "markdown",
      "source": [
        "6. Count Occurrences of an Element in a Nested List:\n",
        "Write a Python function that counts how many times a specific element appears in a nested list.\n",
        "\n",
        "• Requirements:\n",
        "- Define a function count occurrences(lst, elem) that counts the occurrences of elem in\n",
        "the nested list lst.\n",
        "- Example: For the input lst = [[1, 2], [2, 3], [2, 4]] and elem = 2, the output should\n",
        "be 3."
      ],
      "metadata": {
        "id": "eFxsIi3sJ1uN"
      }
    },
    {
      "cell_type": "code",
      "source": [
        "def occurrences(lst, elem):\n",
        "  '''\n",
        "  Count the occurences of elem\n",
        "\n",
        "  Parameters:\n",
        "    lst: The nested list\n",
        "    elem: the element to count\n",
        "\n",
        "  Returns:\n",
        "    The count of occurrences of element\n",
        "  '''\n",
        "\n",
        "  count = 0\n",
        "  for item in lst:\n",
        "    if isinstance(item, list):\n",
        "      count += occurrences(item, elem)\n",
        "    elif item == elem:\n",
        "      count += 1\n",
        "  return count\n",
        "\n",
        "print(occurrences([[1, 2], [2, 3], [2, 4]], 2))"
      ],
      "metadata": {
        "colab": {
          "base_uri": "https://localhost:8080/"
        },
        "id": "wObr-aZkJ4iI",
        "outputId": "0976afac-0dcc-4847-838d-dffe01866fcc"
      },
      "execution_count": null,
      "outputs": [
        {
          "output_type": "stream",
          "name": "stdout",
          "text": [
            "3\n"
          ]
        }
      ]
    },
    {
      "cell_type": "markdown",
      "source": [
        "7. Flatten a List of Lists of Lists:\n",
        "Write a Python function that flattens a list of lists of lists into a single list, regardless of the depth.\n",
        "\n",
        "• Requirements:\n",
        "- Define a function deep flatten(lst) that takes a deeply nested list lst and returns a single\n",
        "flattened list.\n",
        "- Example: For the input [[[1, 2], [3, 4]], [[5, 6], [7, 8]]], the output should be\n",
        "[1, 2, 3, 4, 5, 6, 7, 8]."
      ],
      "metadata": {
        "id": "3a5GtT6lJ4LH"
      }
    },
    {
      "cell_type": "code",
      "source": [
        "def flatten(lst):\n",
        "  '''\n",
        "  Flatten a nested list into a single list.\n",
        "\n",
        "  Parameters:\n",
        "    lst: The nested list.\n",
        "  '''\n",
        "  flat_list = []\n",
        "  for sublist in lst:\n",
        "    if isinstance(sublist, list):\n",
        "      flat_list.extend(flatten(sublist))\n",
        "    else:\n",
        "      flat_list.append(sublist)\n",
        "  return flat_list\n",
        "\n",
        "print(flatten([[[1, 2], [3, 4]], [[5, 6], [7, 8]]]))"
      ],
      "metadata": {
        "colab": {
          "base_uri": "https://localhost:8080/"
        },
        "id": "NrrzLZ1pLCgr",
        "outputId": "2b4030c8-a8e5-411b-9283-6aa7c28c579b"
      },
      "execution_count": null,
      "outputs": [
        {
          "output_type": "stream",
          "name": "stdout",
          "text": [
            "[1, 2, 3, 4, 5, 6, 7, 8]\n"
          ]
        }
      ]
    },
    {
      "cell_type": "markdown",
      "source": [
        "8. Nested List Average:\n",
        "Write a Python function that calculates the average of all elements in a nested list.\n",
        "\n",
        "• Requirements:\n",
        "- Define a function average nested(lst) that takes a nested list lst and returns the average\n",
        "of all the elements.\n",
        "- Example: For the input [[1, 2], [3, 4], [5, 6]], the output should be 3.5."
      ],
      "metadata": {
        "id": "jPm5LYDoMBIG"
      }
    },
    {
      "cell_type": "code",
      "source": [
        "def flatten(lst):\n",
        "  '''\n",
        "  Flatten a nested list into a single list.\n",
        "\n",
        "  Parameters:\n",
        "    lst: The nested list.\n",
        "  '''\n",
        "  flat_list = []\n",
        "  for sublist in lst:\n",
        "    if isinstance(sublist, list):\n",
        "      flat_list.extend(flatten(sublist))\n",
        "    else:\n",
        "      flat_list.append(sublist)\n",
        "  return flat_list\n",
        "\n",
        "def average_nested(lst):\n",
        "  '''\n",
        "  calculate average of all elements in the list\n",
        "\n",
        "  Parameters:\n",
        "    lst: The nested list.\n",
        "\n",
        "  '''\n",
        "\n",
        "  return sum(flatten(lst)) / len (flatten(lst))\n",
        "\n",
        "print(average_nested([[[1, 2], [3, 4]], [[5, 6]]]))"
      ],
      "metadata": {
        "colab": {
          "base_uri": "https://localhost:8080/"
        },
        "id": "ViLhopXBMFtD",
        "outputId": "3d1e98c6-4edb-4851-bfdf-4819188171ec"
      },
      "execution_count": null,
      "outputs": [
        {
          "output_type": "stream",
          "name": "stdout",
          "text": [
            "3.5\n"
          ]
        }
      ]
    },
    {
      "cell_type": "markdown",
      "source": [
        "### 10 To - Do - NumPy\n",
        "Please complete all the problems listed below:"
      ],
      "metadata": {
        "id": "4joVUM0_WpTz"
      }
    },
    {
      "cell_type": "markdown",
      "source": [
        "**10.1 Basic Vector and Matrix Operation with Numpy.**\n",
        "\n",
        "**Problem - 1: Array Creation:**\n",
        "\n",
        "Complete the following Tasks:\n",
        "1. Initialize an empty array with size 2X2."
      ],
      "metadata": {
        "id": "__c8QSW-XYY-"
      }
    },
    {
      "cell_type": "code",
      "source": [
        "import numpy as np\n",
        "\n",
        "empty_array = np.empty((2,2))\n",
        "\n",
        "empty_array"
      ],
      "metadata": {
        "colab": {
          "base_uri": "https://localhost:8080/"
        },
        "id": "KeWreCyZXXk3",
        "outputId": "2db17cc2-c781-48b2-c947-38eb97ca780a"
      },
      "execution_count": null,
      "outputs": [
        {
          "output_type": "execute_result",
          "data": {
            "text/plain": [
              "array([[2.25799235e-316, 0.00000000e+000],\n",
              "       [4.94065646e-324, 6.87734002e-310]])"
            ]
          },
          "metadata": {},
          "execution_count": 1
        }
      ]
    },
    {
      "cell_type": "markdown",
      "source": [
        "2. Initialize an all one array with size 4X2."
      ],
      "metadata": {
        "id": "Yn-uPFsJYuzx"
      }
    },
    {
      "cell_type": "code",
      "source": [
        "one_array = np.ones((4,2))\n",
        "one_array"
      ],
      "metadata": {
        "colab": {
          "base_uri": "https://localhost:8080/"
        },
        "id": "lhrQyC3vYdB9",
        "outputId": "d599539a-e440-4426-cd5f-dbabb1e999b5"
      },
      "execution_count": null,
      "outputs": [
        {
          "output_type": "execute_result",
          "data": {
            "text/plain": [
              "array([[1., 1.],\n",
              "       [1., 1.],\n",
              "       [1., 1.],\n",
              "       [1., 1.]])"
            ]
          },
          "metadata": {},
          "execution_count": 2
        }
      ]
    },
    {
      "cell_type": "markdown",
      "source": [
        "3. Return a new array of given shape and type, filled with fill value.{Hint: np.full}"
      ],
      "metadata": {
        "id": "cw8CZpDDY-Rh"
      }
    },
    {
      "cell_type": "code",
      "source": [
        "arry = np.full((3,3), 7)\n",
        "arry"
      ],
      "metadata": {
        "colab": {
          "base_uri": "https://localhost:8080/"
        },
        "id": "MGC2z9V-ZAs5",
        "outputId": "12509468-ceaa-4404-a308-ccd75cd927ab"
      },
      "execution_count": null,
      "outputs": [
        {
          "output_type": "execute_result",
          "data": {
            "text/plain": [
              "array([[7, 7, 7],\n",
              "       [7, 7, 7],\n",
              "       [7, 7, 7]])"
            ]
          },
          "metadata": {},
          "execution_count": 3
        }
      ]
    },
    {
      "cell_type": "markdown",
      "source": [
        "4. Return a new array of zeros with same shape and type as a given array.{Hint: np.zeros like}"
      ],
      "metadata": {
        "id": "qxuwZHhgZaYw"
      }
    },
    {
      "cell_type": "code",
      "source": [
        "alike_arry = np.zeros_like(arry)\n",
        "alike_arry"
      ],
      "metadata": {
        "colab": {
          "base_uri": "https://localhost:8080/"
        },
        "id": "Gkj2hTY0ZckF",
        "outputId": "bb26d8e5-3114-48a8-b2b8-9d4b014d8c7a"
      },
      "execution_count": null,
      "outputs": [
        {
          "output_type": "execute_result",
          "data": {
            "text/plain": [
              "array([[0, 0, 0],\n",
              "       [0, 0, 0],\n",
              "       [0, 0, 0]])"
            ]
          },
          "metadata": {},
          "execution_count": 4
        }
      ]
    },
    {
      "cell_type": "markdown",
      "source": [
        "5. Return a new array of ones with same shape and type as a given array.{Hint: np.ones like}"
      ],
      "metadata": {
        "id": "xtr60JiEZvbR"
      }
    },
    {
      "cell_type": "code",
      "source": [
        "alike_arry1 = np.ones_like(arry)\n",
        "alike_arry1"
      ],
      "metadata": {
        "colab": {
          "base_uri": "https://localhost:8080/"
        },
        "id": "BSosyFHVZxnb",
        "outputId": "e150f4e8-1c37-401f-8a28-154972f75edf"
      },
      "execution_count": null,
      "outputs": [
        {
          "output_type": "execute_result",
          "data": {
            "text/plain": [
              "array([[1, 1, 1],\n",
              "       [1, 1, 1],\n",
              "       [1, 1, 1]])"
            ]
          },
          "metadata": {},
          "execution_count": 7
        }
      ]
    },
    {
      "cell_type": "markdown",
      "source": [
        "6. For an existing list new_list = [1,2,3,4] convert to an numpy array.{Hint: np.array()}"
      ],
      "metadata": {
        "id": "G19Py_FLZ_wZ"
      }
    },
    {
      "cell_type": "code",
      "source": [
        "new_list = [1,2,3,4]\n",
        "\n",
        "list_arry = np.array(new_list)\n",
        "list_arry"
      ],
      "metadata": {
        "colab": {
          "base_uri": "https://localhost:8080/"
        },
        "id": "S1zpwDvsaAgQ",
        "outputId": "ba057c65-2db8-4b3b-a7b9-18201997981a"
      },
      "execution_count": null,
      "outputs": [
        {
          "output_type": "execute_result",
          "data": {
            "text/plain": [
              "array([1, 2, 3, 4])"
            ]
          },
          "metadata": {},
          "execution_count": 8
        }
      ]
    },
    {
      "cell_type": "markdown",
      "source": [
        "**Problem - 2: Array Manipulation: Numerical Ranges and Array indexing:**\n",
        "\n",
        "Complete the following tasks:\n",
        "\n",
        "1. Create an array with values ranging from 10 to 49. {Hint:np.arrange()}."
      ],
      "metadata": {
        "id": "tq9lKrdFaPHk"
      }
    },
    {
      "cell_type": "code",
      "source": [
        "arry1 = np.arange(10, 49)\n",
        "arry1"
      ],
      "metadata": {
        "colab": {
          "base_uri": "https://localhost:8080/"
        },
        "id": "OAgHXufQaVP8",
        "outputId": "e7969b78-2d7e-47e1-a72e-e294fba32d8f"
      },
      "execution_count": null,
      "outputs": [
        {
          "output_type": "execute_result",
          "data": {
            "text/plain": [
              "array([10, 11, 12, 13, 14, 15, 16, 17, 18, 19, 20, 21, 22, 23, 24, 25, 26,\n",
              "       27, 28, 29, 30, 31, 32, 33, 34, 35, 36, 37, 38, 39, 40, 41, 42, 43,\n",
              "       44, 45, 46, 47, 48])"
            ]
          },
          "metadata": {},
          "execution_count": 9
        }
      ]
    },
    {
      "cell_type": "markdown",
      "source": [
        "2. Create a 3X3 matrix with values ranging from 0 to 8.\n",
        "{Hint:look for np.reshape()}"
      ],
      "metadata": {
        "id": "SkaA_qm6aomD"
      }
    },
    {
      "cell_type": "code",
      "source": [
        "arry_val = np.arange(9)\n",
        "\n",
        "matrix_3x3 = np.reshape(arry_val, (3,3))\n",
        "matrix_3x3"
      ],
      "metadata": {
        "colab": {
          "base_uri": "https://localhost:8080/"
        },
        "id": "CAKwRR6JarAh",
        "outputId": "d62ac12f-dbff-4abf-9921-39c4ceefe4ec"
      },
      "execution_count": null,
      "outputs": [
        {
          "output_type": "execute_result",
          "data": {
            "text/plain": [
              "array([[0, 1, 2],\n",
              "       [3, 4, 5],\n",
              "       [6, 7, 8]])"
            ]
          },
          "metadata": {},
          "execution_count": 10
        }
      ]
    },
    {
      "cell_type": "markdown",
      "source": [
        "Create a 3X3 identity matrix.{Hint:np.eye()}"
      ],
      "metadata": {
        "id": "-6E9MryPba8c"
      }
    },
    {
      "cell_type": "code",
      "source": [
        "identity_matrix = np.eye(3)\n",
        "identity_matrix"
      ],
      "metadata": {
        "colab": {
          "base_uri": "https://localhost:8080/"
        },
        "id": "n8sr1CcwbdDb",
        "outputId": "c9239f78-535d-48b4-8187-720062f958c3"
      },
      "execution_count": null,
      "outputs": [
        {
          "output_type": "execute_result",
          "data": {
            "text/plain": [
              "array([[1., 0., 0.],\n",
              "       [0., 1., 0.],\n",
              "       [0., 0., 1.]])"
            ]
          },
          "metadata": {},
          "execution_count": 11
        }
      ]
    },
    {
      "cell_type": "markdown",
      "source": [
        "4. Create a random array of size 30 and find the mean of the array.\n",
        "{Hint:check for np.random.random() and array.mean() function}"
      ],
      "metadata": {
        "id": "ISkJwwG2bn-0"
      }
    },
    {
      "cell_type": "code",
      "source": [
        "arry_30 = np.random.random(30)\n",
        "mean_arry = arry_30.mean()\n",
        "\n",
        "print(\"Random Array: \\n\", arry_30)\n",
        "print(\"Mean of the random Array: \", mean_arry)"
      ],
      "metadata": {
        "colab": {
          "base_uri": "https://localhost:8080/"
        },
        "id": "gDlGIJ7jbt1_",
        "outputId": "5f5a988d-ac3c-4f51-dc0c-29162fa16943"
      },
      "execution_count": null,
      "outputs": [
        {
          "output_type": "stream",
          "name": "stdout",
          "text": [
            "Random Array: \n",
            " [0.00550818 0.15688489 0.36090742 0.19943947 0.63810594 0.49066715\n",
            " 0.11544092 0.17497285 0.17454992 0.47761425 0.58725419 0.72804627\n",
            " 0.17456046 0.91787578 0.07820658 0.68989617 0.3605269  0.25392884\n",
            " 0.81713736 0.57273798 0.06549922 0.47363774 0.29082029 0.17822064\n",
            " 0.1057477  0.22011591 0.60979932 0.28917145 0.72267907 0.41986553]\n",
            "Mean of the random Array:  0.3783272794967372\n"
          ]
        }
      ]
    },
    {
      "cell_type": "markdown",
      "source": [
        "5. Create a 10X10 array with random values and find the minimum and maximum values."
      ],
      "metadata": {
        "id": "pMFifVx7crqv"
      }
    },
    {
      "cell_type": "code",
      "source": [
        "arry_10 = np.random.random((10, 10))\n",
        "\n",
        "max_num = arry_10.max()\n",
        "min_num = arry_10.min()\n",
        "\n",
        "print(arry_10)\n",
        "print(max_num)\n",
        "print(min_num)"
      ],
      "metadata": {
        "colab": {
          "base_uri": "https://localhost:8080/"
        },
        "id": "7PZKs_voczld",
        "outputId": "1072c161-fdd5-4bc1-94e6-d103495e2ad2"
      },
      "execution_count": null,
      "outputs": [
        {
          "output_type": "stream",
          "name": "stdout",
          "text": [
            "[[0.49622545 0.91753918 0.31586007 0.09674763 0.81394166 0.86362699\n",
            "  0.2701238  0.75867009 0.75076938 0.70861439]\n",
            " [0.52284973 0.40453898 0.6823318  0.73615915 0.42476679 0.23878679\n",
            "  0.56728034 0.82387581 0.19830811 0.1691481 ]\n",
            " [0.71166027 0.07280957 0.18072618 0.1463371  0.54634162 0.49593952\n",
            "  0.46338014 0.28034244 0.61836355 0.19071912]\n",
            " [0.48482737 0.28354743 0.68217596 0.31068062 0.20951313 0.22766115\n",
            "  0.67804307 0.45011596 0.68888575 0.95585252]\n",
            " [0.65944687 0.4037135  0.78505134 0.0316881  0.54721782 0.7911794\n",
            "  0.55933842 0.08312087 0.61151652 0.33408842]\n",
            " [0.47862825 0.0845563  0.00646824 0.95923067 0.7925182  0.47633694\n",
            "  0.11768695 0.68791381 0.30543307 0.54822324]\n",
            " [0.62209907 0.56278992 0.21182326 0.2526327  0.27592075 0.75553594\n",
            "  0.1297726  0.12499271 0.43365982 0.33552483]\n",
            " [0.1816744  0.10919587 0.50501953 0.38605734 0.90115975 0.62776331\n",
            "  0.86463585 0.57213567 0.59445979 0.96365843]\n",
            " [0.2684079  0.49879659 0.91700193 0.82429492 0.92341625 0.31888929\n",
            "  0.4398698  0.84154873 0.51750651 0.55972765]\n",
            " [0.53478252 0.78795627 0.52624626 0.07668988 0.03285722 0.98095072\n",
            "  0.85432613 0.44521675 0.9228546  0.00234283]]\n",
            "0.9809507229451634\n",
            "0.0023428316049446396\n"
          ]
        }
      ]
    },
    {
      "cell_type": "markdown",
      "source": [
        "6. Create a zero array of size 10 and replace 5th element with 1."
      ],
      "metadata": {
        "id": "iedZz7jVdZ8k"
      }
    },
    {
      "cell_type": "code",
      "source": [
        "new_arry = np.zeros(10)\n",
        "new_arry[5] = 1\n",
        "new_arry"
      ],
      "metadata": {
        "colab": {
          "base_uri": "https://localhost:8080/"
        },
        "id": "ZgrWpW6udcoF",
        "outputId": "74719947-9099-4c2d-b49d-fc135ca4da20"
      },
      "execution_count": null,
      "outputs": [
        {
          "output_type": "execute_result",
          "data": {
            "text/plain": [
              "array([0., 0., 0., 0., 0., 1., 0., 0., 0., 0.])"
            ]
          },
          "metadata": {},
          "execution_count": 20
        }
      ]
    },
    {
      "cell_type": "markdown",
      "source": [
        "7. Reverse an array arr = [1,2,0,0,4,0]."
      ],
      "metadata": {
        "id": "SMaUXzUedtbu"
      }
    },
    {
      "cell_type": "code",
      "source": [
        "arr = [1,2,0,0,4,0]\n",
        "arr[::-1]"
      ],
      "metadata": {
        "colab": {
          "base_uri": "https://localhost:8080/"
        },
        "id": "Tw_CPmqMdw6i",
        "outputId": "17bfabc8-ad05-4270-f799-fd10b776f5c3"
      },
      "execution_count": null,
      "outputs": [
        {
          "output_type": "execute_result",
          "data": {
            "text/plain": [
              "[0, 4, 0, 0, 2, 1]"
            ]
          },
          "metadata": {},
          "execution_count": 21
        }
      ]
    },
    {
      "cell_type": "markdown",
      "source": [
        "8. Create a 2d array with 1 on border and 0 inside."
      ],
      "metadata": {
        "id": "QE_HivXSd6lq"
      }
    },
    {
      "cell_type": "code",
      "source": [
        "new_arr = np.zeros((5, 5))\n",
        "new_arr[0, :] = 1\n",
        "new_arr[-1, :] = 1\n",
        "new_arr[:, 0] = 1\n",
        "new_arr[:, -1] = 1\n",
        "\n",
        "new_arr"
      ],
      "metadata": {
        "colab": {
          "base_uri": "https://localhost:8080/"
        },
        "id": "4j-_4ylDd82u",
        "outputId": "ccd969e9-d93c-4adc-b0d0-20bc72048657"
      },
      "execution_count": null,
      "outputs": [
        {
          "output_type": "execute_result",
          "data": {
            "text/plain": [
              "array([[1., 1., 1., 1., 1.],\n",
              "       [1., 0., 0., 0., 1.],\n",
              "       [1., 0., 0., 0., 1.],\n",
              "       [1., 0., 0., 0., 1.],\n",
              "       [1., 1., 1., 1., 1.]])"
            ]
          },
          "metadata": {},
          "execution_count": 25
        }
      ]
    },
    {
      "cell_type": "markdown",
      "source": [
        "9. Create a 8X8 matrix and fill it with a checkerboard pattern."
      ],
      "metadata": {
        "id": "4jKjG9l7gERV"
      }
    },
    {
      "cell_type": "code",
      "source": [
        "checkerboard = np.zeros((8, 8), dtype=int)\n",
        "\n",
        "checkerboard[1::2, ::2] = 1\n",
        "checkerboard[::2, 1::2] = 1\n",
        "checkerboard"
      ],
      "metadata": {
        "colab": {
          "base_uri": "https://localhost:8080/"
        },
        "id": "qyl20QhEghPF",
        "outputId": "3fb72593-a77e-4afa-eb33-ab3f483c46ac"
      },
      "execution_count": null,
      "outputs": [
        {
          "output_type": "execute_result",
          "data": {
            "text/plain": [
              "array([[0, 1, 0, 1, 0, 1, 0, 1],\n",
              "       [1, 0, 1, 0, 1, 0, 1, 0],\n",
              "       [0, 1, 0, 1, 0, 1, 0, 1],\n",
              "       [1, 0, 1, 0, 1, 0, 1, 0],\n",
              "       [0, 1, 0, 1, 0, 1, 0, 1],\n",
              "       [1, 0, 1, 0, 1, 0, 1, 0],\n",
              "       [0, 1, 0, 1, 0, 1, 0, 1],\n",
              "       [1, 0, 1, 0, 1, 0, 1, 0]])"
            ]
          },
          "metadata": {},
          "execution_count": 29
        }
      ]
    },
    {
      "cell_type": "markdown",
      "source": [
        "### Problem - 3: Array Operations:\n",
        "For the following arrays:\n",
        "\n",
        "x = np.array([[1,2],[3,5]]) and y = np.array([[5,6],[7,8]]);\n",
        "\n",
        "v = np.array([9,10]) and w = np.array([11,12]);\n",
        "Complete all the task using numpy:\n",
        "1. Add the two array."
      ],
      "metadata": {
        "id": "XIuLTNJQhtp4"
      }
    },
    {
      "cell_type": "code",
      "source": [
        "x = np.array([[1,2],[3,5]])\n",
        "y = np.array([[5,6],[7,8]])\n",
        "\n",
        "add_x_y = np.add(x,y)\n",
        "print(\"Sum of array x and y: \", add_x_y)\n",
        "\n",
        "v = np.array([9,10])\n",
        "w = np.array([11,12])\n",
        "add_v_w = np.add(v, w)\n",
        "print(\"Sum of array v and w: \", add_v_w)"
      ],
      "metadata": {
        "colab": {
          "base_uri": "https://localhost:8080/"
        },
        "id": "C3YwRcsxh6oA",
        "outputId": "b5340802-8b8b-4010-86c7-fba49328b892"
      },
      "execution_count": null,
      "outputs": [
        {
          "output_type": "stream",
          "name": "stdout",
          "text": [
            "Sum of array x and y:  [[ 6  8]\n",
            " [10 13]]\n",
            "Sum of array v and w:  [20 22]\n"
          ]
        }
      ]
    },
    {
      "cell_type": "markdown",
      "source": [
        "2. Subtract the two array."
      ],
      "metadata": {
        "id": "wclpgPeHi0kI"
      }
    },
    {
      "cell_type": "code",
      "source": [
        "sub_x_y = np.subtract(x,y)\n",
        "print(\"Differences of array x and y: \", sub_x_y)\n",
        "\n",
        "sub_v_w = np.subtract(v,w)\n",
        "print(\"Differences of array v and w: \", sub_v_w)"
      ],
      "metadata": {
        "colab": {
          "base_uri": "https://localhost:8080/"
        },
        "id": "PHDtEpUHi3SF",
        "outputId": "13ec7cc6-0e3f-4087-b3fb-fd52b9e4f617"
      },
      "execution_count": null,
      "outputs": [
        {
          "output_type": "stream",
          "name": "stdout",
          "text": [
            "Differences of array x and y:  [[-4 -4]\n",
            " [-4 -3]]\n",
            "Differences of array v and w:  [-2 -2]\n"
          ]
        }
      ]
    },
    {
      "cell_type": "markdown",
      "source": [
        "3. Multiply the array with any integers of your choice."
      ],
      "metadata": {
        "id": "T1CFaRMli2fg"
      }
    },
    {
      "cell_type": "code",
      "source": [
        "multiply_x = x * 1\n",
        "multiply_y = y * 2\n",
        "multiply_v = v * 1\n",
        "multiply_w = w * 2\n",
        "\n",
        "print(\"Multiplication of array:\\n\", multiply_x, \"\\n\\n\",  multiply_y, \"\\n\\n\",\n",
        "      multiply_v, \"\\n\\n\", multiply_w)"
      ],
      "metadata": {
        "colab": {
          "base_uri": "https://localhost:8080/"
        },
        "id": "EKjt9-xsjiDw",
        "outputId": "dffaea5e-66aa-48bc-8608-180182cd3859"
      },
      "execution_count": null,
      "outputs": [
        {
          "output_type": "stream",
          "name": "stdout",
          "text": [
            "Multiplication of array:\n",
            " [[1 2]\n",
            " [3 5]] \n",
            "\n",
            " [[10 12]\n",
            " [14 16]] \n",
            "\n",
            " [ 9 10] \n",
            "\n",
            " [22 24]\n"
          ]
        }
      ]
    },
    {
      "cell_type": "markdown",
      "source": [
        "4. Find the square of each element of the array."
      ],
      "metadata": {
        "id": "wAGlaVUrkMrx"
      }
    },
    {
      "cell_type": "code",
      "source": [
        "square_x = np.square(x)\n",
        "square_y = np.square(y)\n",
        "square_v = np.square(v)\n",
        "square_w = np.square(w)\n",
        "\n",
        "print(\"Square of each element of the array:\\n\", square_x, \"\\n\\n\",\n",
        "      square_y, \"\\n\\n\", square_v, \"\\n\\n\", square_w)"
      ],
      "metadata": {
        "colab": {
          "base_uri": "https://localhost:8080/"
        },
        "id": "hEEbkHn2kPOd",
        "outputId": "1c7064fe-6743-4ed0-af43-c68037041d2e"
      },
      "execution_count": null,
      "outputs": [
        {
          "output_type": "stream",
          "name": "stdout",
          "text": [
            "Square of each element of the array:\n",
            " [[ 1  4]\n",
            " [ 9 25]] \n",
            "\n",
            " [[25 36]\n",
            " [49 64]] \n",
            "\n",
            " [ 81 100] \n",
            "\n",
            " [121 144]\n"
          ]
        }
      ]
    },
    {
      "cell_type": "markdown",
      "source": [
        "5. Find the dot product between: v(and)w ; x(and)v ; x(and)y."
      ],
      "metadata": {
        "id": "nOn_BvT-kO5i"
      }
    },
    {
      "cell_type": "code",
      "source": [
        "dot_vw = np.dot(v, w)\n",
        "dot_xy = np.dot(x, y)\n",
        "dot_xv = np.dot(x, v)\n",
        "\n",
        "print(\"Dot product between v and w: \", dot_vw)\n",
        "print(\"Dot product between x and v: \", dot_xv)\n",
        "print(\"Dot product between x and y: \", dot_xy)"
      ],
      "metadata": {
        "colab": {
          "base_uri": "https://localhost:8080/"
        },
        "id": "y9NQ7a-Ek6jO",
        "outputId": "6ff9c003-8645-4317-f47b-f8b5acaca453"
      },
      "execution_count": null,
      "outputs": [
        {
          "output_type": "stream",
          "name": "stdout",
          "text": [
            "Dot product between v and w:  219\n",
            "Dot product between x and v:  [29 77]\n",
            "Dot product between x and y:  [[19 22]\n",
            " [50 58]]\n"
          ]
        }
      ]
    },
    {
      "cell_type": "markdown",
      "source": [
        "6. Concatenate x(and)y along row and Concatenate v(and)w along column.\n",
        "{Hint:try np.concatenate() or np.vstack() functions."
      ],
      "metadata": {
        "id": "1mzKGg_Klc8u"
      }
    },
    {
      "cell_type": "code",
      "source": [
        "concat_xy = np.concatenate((x, y))\n",
        "concat_vw = np.vstack((v, w))\n",
        "print(\"Concatenation of x and y along row: \", concat_xy)\n",
        "print(\"Concatenation of v and w along coloumn: \", concat_vw)"
      ],
      "metadata": {
        "colab": {
          "base_uri": "https://localhost:8080/"
        },
        "id": "8dwXKoK4le1z",
        "outputId": "6ad354f1-13d0-4401-e0e4-e93103bab428"
      },
      "execution_count": null,
      "outputs": [
        {
          "output_type": "stream",
          "name": "stdout",
          "text": [
            "Concatenation of x and y along row:  [[1 2]\n",
            " [3 5]\n",
            " [5 6]\n",
            " [7 8]]\n",
            "Concatenation of v and w along coloumn:  [[ 9 10]\n",
            " [11 12]]\n"
          ]
        }
      ]
    },
    {
      "cell_type": "markdown",
      "source": [
        "7. Concatenate x(and)v; if you get an error, observe and explain why did you get the error?"
      ],
      "metadata": {
        "id": "lozSusk8n3gK"
      }
    },
    {
      "cell_type": "code",
      "source": [
        "concat_xv = np.concatenate((x,v))"
      ],
      "metadata": {
        "colab": {
          "base_uri": "https://localhost:8080/",
          "height": 158
        },
        "id": "hnHXxDtdn6ju",
        "outputId": "846d323c-46c8-4359-8eb0-3744980a7c74"
      },
      "execution_count": null,
      "outputs": [
        {
          "output_type": "error",
          "ename": "ValueError",
          "evalue": "all the input arrays must have same number of dimensions, but the array at index 0 has 2 dimension(s) and the array at index 1 has 1 dimension(s)",
          "traceback": [
            "\u001b[0;31m---------------------------------------------------------------------------\u001b[0m",
            "\u001b[0;31mValueError\u001b[0m                                Traceback (most recent call last)",
            "\u001b[0;32m<ipython-input-49-5bb9d53c7a64>\u001b[0m in \u001b[0;36m<cell line: 0>\u001b[0;34m()\u001b[0m\n\u001b[0;32m----> 1\u001b[0;31m \u001b[0mconcat_xv\u001b[0m \u001b[0;34m=\u001b[0m \u001b[0mnp\u001b[0m\u001b[0;34m.\u001b[0m\u001b[0mconcatenate\u001b[0m\u001b[0;34m(\u001b[0m\u001b[0;34m(\u001b[0m\u001b[0mx\u001b[0m\u001b[0;34m,\u001b[0m\u001b[0mv\u001b[0m\u001b[0;34m)\u001b[0m\u001b[0;34m)\u001b[0m\u001b[0;34m\u001b[0m\u001b[0;34m\u001b[0m\u001b[0m\n\u001b[0m",
            "\u001b[0;31mValueError\u001b[0m: all the input arrays must have same number of dimensions, but the array at index 0 has 2 dimension(s) and the array at index 1 has 1 dimension(s)"
          ]
        }
      ]
    },
    {
      "cell_type": "markdown",
      "source": [
        "## Problem - 4: Matrix Operations:\n",
        "• For the following arrays:\n",
        "\n",
        "A = np.array([[3,4],[7,8]]) and B = np.array([[5,3],[2,1]]);\n",
        "\n",
        "Prove following with Numpy:\n",
        "1. Prove A.A−1 = I."
      ],
      "metadata": {
        "id": "bmFcTMaloMlx"
      }
    },
    {
      "cell_type": "code",
      "source": [
        "A = np.array([[3,4],[7,8]])\n",
        "B = np.array([[5,3],[2,1]])\n",
        "\n",
        "A_inv = np.linalg.inv(A)\n",
        "proof = np.dot(A, A_inv)\n",
        "proof = np.round(proof, 6)\n",
        "\n",
        "print(\"A * A_inc:\\n\", proof)"
      ],
      "metadata": {
        "colab": {
          "base_uri": "https://localhost:8080/"
        },
        "id": "NAJ2PjI-oW6i",
        "outputId": "4161951c-420a-4765-9f34-2b279af5a111"
      },
      "execution_count": null,
      "outputs": [
        {
          "output_type": "stream",
          "name": "stdout",
          "text": [
            "A * A_inc:\n",
            " [[1. 0.]\n",
            " [0. 1.]]\n"
          ]
        }
      ]
    },
    {
      "cell_type": "markdown",
      "source": [
        "This is approximately the identity matrix\n",
        "I\n",
        "I, with minor numerical errors due to floating-point precision."
      ],
      "metadata": {
        "id": "JfffTBMfqeQP"
      }
    },
    {
      "cell_type": "code",
      "source": [
        "AB = np.dot(A, B)\n",
        "BA = np.dot(B, A)\n",
        "\n",
        "print(\"AB = \\n\", AB)\n",
        "print(\"BA = \\n\", BA)"
      ],
      "metadata": {
        "colab": {
          "base_uri": "https://localhost:8080/"
        },
        "id": "IgTINvyhqg21",
        "outputId": "cb406418-c3cc-470d-95df-d506f60f4cae"
      },
      "execution_count": null,
      "outputs": [
        {
          "output_type": "stream",
          "name": "stdout",
          "text": [
            "AB = \n",
            " [[23 13]\n",
            " [51 29]]\n",
            "BA = \n",
            " [[36 44]\n",
            " [13 16]]\n"
          ]
        }
      ]
    },
    {
      "cell_type": "markdown",
      "source": [
        "3. Prove (AB)T = BTAT"
      ],
      "metadata": {
        "id": "tXPjJgRxrDzK"
      }
    },
    {
      "cell_type": "code",
      "source": [
        "AB_T = AB.T\n",
        "B_T = B.T\n",
        "A_T = A.T\n",
        "\n",
        "B_T_A_T = np.dot(B_T, A_T)\n",
        "\n",
        "print(\"(AB)^T = \\n\", AB_T)\n",
        "print(\"\\nB^T A^T = \\n\", B_T_A_T)"
      ],
      "metadata": {
        "colab": {
          "base_uri": "https://localhost:8080/"
        },
        "id": "VQyYUqPyq-p1",
        "outputId": "260db7fd-09ca-4768-f5ff-60b7dc873e74"
      },
      "execution_count": null,
      "outputs": [
        {
          "output_type": "stream",
          "name": "stdout",
          "text": [
            "(AB)^T = \n",
            " [[23 51]\n",
            " [13 29]]\n",
            "\n",
            "B^T A^T = \n",
            " [[23 51]\n",
            " [13 29]]\n"
          ]
        }
      ]
    },
    {
      "cell_type": "markdown",
      "source": [
        "Solve the following system of Linear equation using Inverse Methods.\n",
        "\n",
        "2x − 3y + z = −1\n",
        "\n",
        "x − y + 2z = −3\n",
        "\n",
        "3x + y − z = 9\n",
        "\n",
        "{Hint: First use Numpy array to represent the equation in Matrix form. Then Solve for: AX = B}\n",
        "\n",
        "• Now: solve the above equation using np.linalg.inv function.{Explore more about ”linalg” func-\n",
        "tion of Numpy}"
      ],
      "metadata": {
        "id": "FyWz7GkSrwi9"
      }
    },
    {
      "cell_type": "code",
      "source": [
        "A = np.array([[2, -3, 1],\n",
        "             [1, -1, 2],\n",
        "             [3, 1, -1]])\n",
        "\n",
        "B = np.array([-1, -3, 9])\n",
        "\n",
        "A_inv = np.linalg.inv(A)\n",
        "X = np.dot(A_inv, B)\n",
        "\n",
        "print(f\"x = {X[0]}, y = {X[1]} and z = {X[2]}\")"
      ],
      "metadata": {
        "colab": {
          "base_uri": "https://localhost:8080/"
        },
        "id": "sQxF4o6erwTP",
        "outputId": "025c53ea-256e-47d7-8ae3-5aaa725bc856"
      },
      "execution_count": null,
      "outputs": [
        {
          "output_type": "stream",
          "name": "stdout",
          "text": [
            "x = 2.0, y = 1.0 and z = -2.0\n"
          ]
        }
      ]
    },
    {
      "cell_type": "markdown",
      "source": [
        "### 10.2 Experiment: How Fast is Numpy?\n",
        "In this exercise, you will compare the performance and implementation of operations using plain Python\n",
        "lists (arrays) and NumPy arrays. Follow the instructions:\n",
        "1. Element-wise Addition:\n",
        "- Using Python Lists, perform element-wise addition of two lists of size 1, 000, 000. Measure\n",
        "and Print the time taken for this operation.\n",
        "- Using Numpy Arrays, Repeat the calculation and measure and print the time taken for\n",
        "this operation."
      ],
      "metadata": {
        "id": "ZZV7BR1LspE6"
      }
    },
    {
      "cell_type": "code",
      "source": [
        "import time\n",
        "\n",
        "# Generate two large lists\n",
        "list1 = list(range(1000000))\n",
        "list2 = list(range(1000000))\n",
        "\n",
        "# Start timing\n",
        "start_time = time.time()\n",
        "\n",
        "# Perform element-wise addition\n",
        "sum_list = [a + b for a, b in zip(list1, list2)]\n",
        "print(\"Python list addition time:\", time.time() - start_time)"
      ],
      "metadata": {
        "id": "dV2gB3UXs2RD",
        "colab": {
          "base_uri": "https://localhost:8080/"
        },
        "outputId": "21bd42c0-6e7e-48da-c120-304d68a8b92f"
      },
      "execution_count": 2,
      "outputs": [
        {
          "output_type": "stream",
          "name": "stdout",
          "text": [
            "Python list addition time: 0.21726775169372559\n"
          ]
        }
      ]
    },
    {
      "cell_type": "code",
      "source": [
        "import numpy as np\n",
        "\n",
        "arr1 = np.arange(1000000)\n",
        "arr2 = np.arange(1000000)\n",
        "\n",
        "start = time.time()\n",
        "sum_arr = arr1 + arr2\n",
        "print(\"NumPy array addition time:\", time.time() - start)"
      ],
      "metadata": {
        "colab": {
          "base_uri": "https://localhost:8080/"
        },
        "id": "vNbTXiuqHkUH",
        "outputId": "0fe1c1f5-9655-42e4-a271-b742eac56f31"
      },
      "execution_count": 4,
      "outputs": [
        {
          "output_type": "stream",
          "name": "stdout",
          "text": [
            "NumPy array addition time: 0.002550363540649414\n"
          ]
        }
      ]
    },
    {
      "cell_type": "markdown",
      "source": [
        "2. Element-wise Multiplication\n",
        "• Using Python Lists, perform element-wise multiplication of two lists of size 1, 000, 000.\n",
        "Measure and Print the time taken for this operation.\n",
        "• Using Numpy Arrays, Repeat the calculation and measure and print the time taken for\n",
        "this operation."
      ],
      "metadata": {
        "id": "npWrUwqoIpaH"
      }
    },
    {
      "cell_type": "code",
      "source": [
        "start = time.time()\n",
        "\n",
        "product_list = [a * b for a,b in zip(list1, list2)]\n",
        "print(\"Python list multiplication time:\", time.time() - start)"
      ],
      "metadata": {
        "colab": {
          "base_uri": "https://localhost:8080/"
        },
        "id": "t0EEKQz4KPL8",
        "outputId": "2695d963-5769-4009-80ef-7c9c297acbb3"
      },
      "execution_count": 5,
      "outputs": [
        {
          "output_type": "stream",
          "name": "stdout",
          "text": [
            "Python list multiplication time: 0.044583797454833984\n"
          ]
        }
      ]
    },
    {
      "cell_type": "code",
      "source": [
        "start = time.time()\n",
        "product_arr = arr1 * arr2\n",
        "print(\"NumPy array addition time:\", time.time() - start)"
      ],
      "metadata": {
        "colab": {
          "base_uri": "https://localhost:8080/"
        },
        "id": "7ZSgy9TIKnJY",
        "outputId": "b10a80ae-e3e2-4be2-d81d-db5ceef5fc21"
      },
      "execution_count": 6,
      "outputs": [
        {
          "output_type": "stream",
          "name": "stdout",
          "text": [
            "NumPy array addition time: 0.001386880874633789\n"
          ]
        }
      ]
    },
    {
      "cell_type": "markdown",
      "source": [
        "3. Dot Product\n",
        "• Using Python Lists, compute the dot product of two lists of size 1, 000, 000. Measure and\n",
        "Print the time taken for this operation.\n",
        "• Using Numpy Arrays, Repeat the calculation and measure and print the time taken for\n",
        "this operation."
      ],
      "metadata": {
        "id": "funfgkQBLFJp"
      }
    },
    {
      "cell_type": "code",
      "source": [
        "start = time.time()\n",
        "dot_product = sum(a * b for a, b in zip(list1, list2))\n",
        "print(\"Python list dot product time:\", time.time() - start)"
      ],
      "metadata": {
        "colab": {
          "base_uri": "https://localhost:8080/"
        },
        "id": "_k90I28sKspy",
        "outputId": "7920fad6-e054-44c3-c657-9c6ee89a891f"
      },
      "execution_count": 8,
      "outputs": [
        {
          "output_type": "stream",
          "name": "stdout",
          "text": [
            "Python list dot product time: 0.05343794822692871\n"
          ]
        }
      ]
    },
    {
      "cell_type": "code",
      "source": [
        "start = time.time()\n",
        "dot_product = np.dot(arr1, arr2)\n",
        "print(\"NumPy array dot product time:\", time.time() - start)"
      ],
      "metadata": {
        "colab": {
          "base_uri": "https://localhost:8080/"
        },
        "id": "5PUHlXUQLbzr",
        "outputId": "c4c8819e-b431-4443-9bf9-08a9503cff7d"
      },
      "execution_count": 9,
      "outputs": [
        {
          "output_type": "stream",
          "name": "stdout",
          "text": [
            "NumPy array dot product time: 0.0014934539794921875\n"
          ]
        }
      ]
    },
    {
      "cell_type": "markdown",
      "source": [
        "4. Matrix Multiplication\n",
        "\n",
        "• Using Python lists, perform matrix multiplication of two matrices of size 1000x1000. Mea-\n",
        "sure and print the time taken for this operation.\n",
        "\n",
        "• Using NumPy arrays, perform matrix multiplication of two matrices of size 1000x1000.\n",
        "Measure and print the time taken for this operation."
      ],
      "metadata": {
        "id": "9Azb_nzELu4w"
      }
    },
    {
      "cell_type": "code",
      "source": [
        "matrix1 = [[i + j for j in range(1000)] for i in range(1000)]\n",
        "matrix2 = [[i + j for j in range(1000)] for i in range(1000)]\n",
        "\n",
        "start = time.time()\n",
        "mul_matrix = [[sum(a * b for a, b in zip(row, col)) for col in zip(*matrix2)]\n",
        "              for row in matrix1]\n",
        "\n",
        "print(\"Python list matrix multiplication:\", time.time() - start)"
      ],
      "metadata": {
        "colab": {
          "base_uri": "https://localhost:8080/"
        },
        "id": "C8dhf0ACLwZ_",
        "outputId": "c40c505b-3509-4a4b-e851-cb8d7a8f4cf0"
      },
      "execution_count": 18,
      "outputs": [
        {
          "output_type": "stream",
          "name": "stdout",
          "text": [
            "Python list matrix multiplication: 83.06312584877014\n"
          ]
        }
      ]
    },
    {
      "cell_type": "code",
      "source": [
        "np_matrix1 = np.random.random((1000, 1000))\n",
        "np_matrix2 = np.random.random((1000,1000))\n",
        "\n",
        "start = time.time()\n",
        "mul_matrix = np.dot(matrix1, matrix2)\n",
        "\n",
        "print(\"Numpy array matrix multiplication:\", time.time() - start)"
      ],
      "metadata": {
        "colab": {
          "base_uri": "https://localhost:8080/"
        },
        "id": "kQUoXS8mNTLE",
        "outputId": "abe07ae1-e44a-4ada-f6af-faf6a87a6b8c"
      },
      "execution_count": 17,
      "outputs": [
        {
          "output_type": "stream",
          "name": "stdout",
          "text": [
            "Numpy array matrix multiplication: 1.0574965476989746\n"
          ]
        }
      ]
    }
  ]
}