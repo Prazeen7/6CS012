{
  "nbformat": 4,
  "nbformat_minor": 0,
  "metadata": {
    "colab": {
      "provenance": []
    },
    "kernelspec": {
      "name": "python3",
      "display_name": "Python 3"
    },
    "language_info": {
      "name": "python"
    }
  },
  "cells": [
    {
      "cell_type": "markdown",
      "source": [
        "# Implementation of MCP Neuron for AND and OR Function."
      ],
      "metadata": {
        "id": "IY-_Zy_b71lD"
      }
    },
    {
      "cell_type": "code",
      "source": [
        "def MCP_Neurons_AND(X1, X2, T):\n",
        "  \"\"\"\n",
        "  This functions implements basic AND operations with MCP Neuron for two inputs.\n",
        "  Arguments:\n",
        "  Inputs:\n",
        "  X1 (1 nd array): An array of binary values.\n",
        "  X2 (1 nd array): An array of binary values.\n",
        "  Output:\n",
        "  state_neuron(1D-list): An state of neuron 1 0r 0 for the particular inputs.\n",
        "  \"\"\"\n",
        "  assert len(X1) == len(X2)\n",
        "  # Perform an element wise addition of two input arrays stored in a new array(list):\n",
        "  summed_inputs = [X1 + X2 for X1, X2 in zip(X1, X2)]\n",
        "  # Create a new array to put all the prediction let's name that a state_neuron.\n",
        "  state_neuron = []\n",
        "  # Append 1 in sate_neuron if sum (element) of above list is above Threshold else append 0.\n",
        "  for sum_value in summed_inputs:\n",
        "    if sum_value >= T:\n",
        "      state_neuron.append(1)\n",
        "    else:\n",
        "      state_neuron.append(0)\n",
        "\n",
        "  return state_neuron"
      ],
      "metadata": {
        "id": "Fu-YDOe_8GJi"
      },
      "execution_count": 1,
      "outputs": []
    },
    {
      "cell_type": "code",
      "source": [
        "# Example usage for MCP_Neurons_AND function\n",
        "X1 = [0, 0, 1, 1]\n",
        "X2 = [0, 1, 0, 1]\n",
        "T = 2  # Threshold value\n",
        "\n",
        "# Call the MCP_Neurons_AND function\n",
        "result = MCP_Neurons_AND(X1, X2, T)\n",
        "\n",
        "# Print the result\n",
        "print(f\"Output of AND gate for inputs {X1} and {X2} with threshold {T}: {result}\")\n"
      ],
      "metadata": {
        "colab": {
          "base_uri": "https://localhost:8080/"
        },
        "id": "e2-lKfat8ocN",
        "outputId": "9f401578-c2da-4e58-b9c0-08d7e30cbae0"
      },
      "execution_count": 2,
      "outputs": [
        {
          "output_type": "stream",
          "name": "stdout",
          "text": [
            "Output of AND gate for inputs [0, 0, 1, 1] and [0, 1, 0, 1] with threshold 2: [0, 0, 0, 1]\n"
          ]
        }
      ]
    },
    {
      "cell_type": "code",
      "source": [
        "def MCP_Neurons_OR(X1, X2, T):\n",
        "    \"\"\"\n",
        "    This function implements basic OR operations with MCP Neuron for two inputs.\n",
        "    Arguments:\n",
        "    Inputs:\n",
        "    X1 (1D array): An array of binary values.\n",
        "    X2 (1D array): An array of binary values.\n",
        "    Output:\n",
        "    state_neuron (1D list): The state of the neuron (1 or 0) for the particular inputs.\n",
        "    \"\"\"\n",
        "    assert len(X1) == len(X2)\n",
        "    ### YOUR CODE HERE ###\n",
        "    # Perform an element wise addition of two input arrays stored in a new array(list):\n",
        "    summed_inputs = [X1 + X2 for X1, X2 in zip (X1, X2)]\n",
        "    # Create a new array to put all the prediction let's name that a state_neuron.\n",
        "    state_neuron = []\n",
        "    # Append 1 in sate_neuron if sum (element) of above list is above Threshold else append 0.\n",
        "    for summed_value in summed_inputs:\n",
        "      if summed_value >= T:\n",
        "        state_neuron.append(1)\n",
        "      else:\n",
        "        state_neuron.append(0)\n",
        "    return state_neuron\n"
      ],
      "metadata": {
        "id": "7xaMXlLT9FHC"
      },
      "execution_count": 3,
      "outputs": []
    },
    {
      "cell_type": "code",
      "source": [
        "# Example usage for MCP_Neurons_OR function\n",
        "X1 = [0, 0, 1, 1]\n",
        "X2 = [0, 1, 0, 1]\n",
        "T = 1  # Threshold value for OR gate\n",
        "\n",
        "# Call the MCP_Neurons_OR function\n",
        "result_or = MCP_Neurons_OR(X1, X2, T)\n",
        "\n",
        "# Print the result\n",
        "print(f\"Output of OR gate for inputs {X1} and {X2} with threshold {T}: {result_or}\")\n"
      ],
      "metadata": {
        "colab": {
          "base_uri": "https://localhost:8080/"
        },
        "id": "6H-YOy268_Jo",
        "outputId": "405cca61-2ce5-4ffc-e1aa-9cd4c7bdd45f"
      },
      "execution_count": 4,
      "outputs": [
        {
          "output_type": "stream",
          "name": "stdout",
          "text": [
            "Output of OR gate for inputs [0, 0, 1, 1] and [0, 1, 0, 1] with threshold 1: [0, 1, 1, 1]\n"
          ]
        }
      ]
    },
    {
      "cell_type": "markdown",
      "source": [
        "### **3.2.1 Answer the Following Question:**\n",
        "- You can use Text cell of your notebook to answer the question.\n"
      ],
      "metadata": {
        "id": "kg9kxvUpKz57"
      }
    },
    {
      "cell_type": "markdown",
      "source": [
        "- Question - 1: List out all the limitations of MCP - Neurons.\n",
        "\n",
        "  - The binary nature restricts the model's ability to handle real-world data like continuous data.\n",
        "\n",
        "  - The model can only solve linearly separable problems.\n",
        "\n",
        "  - The operaion of an MCP neuron depends on a predefined threshold which is manually set and is not adaptable during processing.\n",
        "\n",
        "  - MCP neurons do not have a mechanism for learning from data and they cannot adjust their weights or thresholds based on input data."
      ],
      "metadata": {
        "id": "xd98s4xSK5fw"
      }
    },
    {
      "cell_type": "markdown",
      "source": [
        "- Question - 2: Think if you can develop a logic to solve for XOR function using MCP Neuron.\n",
        "{Can you devise a if else rules.}\n",
        "\n",
        "  - The XOR function is not linearly separable and cannot be solved by a single MCP neuron. However it can be solved by using multi-layer approach with MCP neurons."
      ],
      "metadata": {
        "id": "9KoZ3CJrLx57"
      }
    },
    {
      "cell_type": "code",
      "source": [
        "def MCP_Neurons_XOR(X1, X2):\n",
        "  # First Layer\n",
        "  nand = [1 if (X1 + X2) < 2 else 0 for X1,X2 in zip (X1,X2) ]\n",
        "  or_func = [1 if (X1 + X2) > 0 else 0 for X1,X2 in zip (X1,X2)]\n",
        "\n",
        "  # Second Layer\n",
        "  xor = [1 if (n + o) > 1 else 0 for n, o in zip (nand, or_func)]\n",
        "\n",
        "  return xor"
      ],
      "metadata": {
        "id": "KmKauShxMgrS"
      },
      "execution_count": 5,
      "outputs": []
    },
    {
      "cell_type": "code",
      "source": [
        "# Example usage for MCP_Neurons_OR function\n",
        "X1 = [0, 0, 1, 1]\n",
        "X2 = [0, 1, 0, 1]\n",
        "\n",
        "# Call the MCP_Neurons_OR function\n",
        "result_xor = MCP_Neurons_XOR(X1, X2)\n",
        "\n",
        "# Print the result\n",
        "print(f\"Output of XOR gate for inputs {X1} and {X2}: {result_xor}\")\n"
      ],
      "metadata": {
        "id": "vVmc-y4jNTIt",
        "outputId": "79203ef0-08f5-403d-e83b-745ea82c6c48",
        "colab": {
          "base_uri": "https://localhost:8080/"
        }
      },
      "execution_count": 6,
      "outputs": [
        {
          "output_type": "stream",
          "name": "stdout",
          "text": [
            "Output of XOR gate for inputs [0, 0, 1, 1] and [0, 1, 0, 1]: [0, 1, 1, 0]\n"
          ]
        }
      ]
    },
    {
      "cell_type": "markdown",
      "source": [
        "# Implementation for 0 Vs. 1 Classification."
      ],
      "metadata": {
        "id": "Apa9bfLIFJHe"
      }
    },
    {
      "cell_type": "markdown",
      "source": [
        "## Step 1: Load the Dataset"
      ],
      "metadata": {
        "id": "iom83mGLFP_1"
      }
    },
    {
      "cell_type": "code",
      "source": [
        "from google.colab import drive\n",
        "drive.mount('/content/drive')"
      ],
      "metadata": {
        "id": "EK4z1NT_Kcmn",
        "outputId": "d7770030-3fc9-4b6b-dd08-bf66d439caa7",
        "colab": {
          "base_uri": "https://localhost:8080/"
        }
      },
      "execution_count": 7,
      "outputs": [
        {
          "output_type": "stream",
          "name": "stdout",
          "text": [
            "Drive already mounted at /content/drive; to attempt to forcibly remount, call drive.mount(\"/content/drive\", force_remount=True).\n"
          ]
        }
      ]
    },
    {
      "cell_type": "code",
      "source": [
        "import pandas as pd\n",
        "import numpy as np\n",
        "import matplotlib.pyplot as plt\n",
        "\n",
        "\n",
        "# Load the dataset\n",
        "df_0_1 = pd.read_csv(\"/content/drive/MyDrive/AL and ML/Workshop 3/mnist_0_and_1.csv\")  # Add the correct file path if necessary\n",
        "\n",
        "# Extract features and labels\n",
        "X = df_0_1.drop(columns=[\"label\"]).values  # 784 pixels\n",
        "y = df_0_1[\"label\"].values  # Labels (0 or 1)\n",
        "\n",
        "# Check the shape of the features and labels\n",
        "print(\"Feature matrix shape:\", X.shape)\n",
        "print(\"Label vector shape:\", y.shape)\n"
      ],
      "metadata": {
        "colab": {
          "base_uri": "https://localhost:8080/"
        },
        "id": "7rkW58ct9IYq",
        "outputId": "856a0aaf-ae08-4441-e616-01caa2b3aa29"
      },
      "execution_count": 8,
      "outputs": [
        {
          "output_type": "stream",
          "name": "stdout",
          "text": [
            "Feature matrix shape: (12665, 784)\n",
            "Label vector shape: (12665,)\n"
          ]
        }
      ]
    },
    {
      "cell_type": "markdown",
      "source": [
        "**Answer the Following Question:**"
      ],
      "metadata": {
        "id": "IvReA1NgQh2B"
      }
    },
    {
      "cell_type": "markdown",
      "source": [
        "1. Question - 1: What does the shape of X represent?\n",
        "\n",
        "- The shape of X represents all the 12665 entries and 784 features which are pixel values. The X needs to be classified in 0 and 1 class"
      ],
      "metadata": {
        "id": "62aygJSFQoKt"
      }
    },
    {
      "cell_type": "markdown",
      "source": [
        "2. Question - 2: What does the shape of Y represent?\n",
        "\n",
        "- The shape of Y represent the label which classifies the pixel in 0 and 1 class. Y has 12665 entries."
      ],
      "metadata": {
        "id": "zmzd1ligQmB3"
      }
    },
    {
      "cell_type": "markdown",
      "source": [
        "### Viewing the Dataset."
      ],
      "metadata": {
        "id": "jlq0EY2jHheD"
      }
    },
    {
      "cell_type": "code",
      "source": [
        "# Separate images for label 0 and label 1\n",
        "images_0 = X[y == 0]  # Get all images with label 0\n",
        "images_1 = X[y == 1]  # Get all images with label 1\n",
        "\n",
        "fig, axes = plt.subplots(2, 5, figsize=(10, 5))\n",
        "\n",
        "# Check if the arrays have the required amount of data\n",
        "if len(images_0) < 5 or len(images_1) < 5:\n",
        "    print(\"Error: Not enough images in images_0 or images_1 to plot 5 images.\")\n",
        "else:\n",
        "    for i in range(5):\n",
        "        # Plot digit 0\n",
        "        axes[0, i].imshow(images_0[i].reshape(28, 28), cmap=\"gray\")\n",
        "        axes[0, i].set_title(\"Label: 0\")\n",
        "        axes[0, i].axis(\"off\")\n",
        "        # Plot digit 1\n",
        "        axes[1, i].imshow(images_1[i].reshape(28, 28), cmap=\"gray\")\n",
        "        axes[1, i].set_title(\"Label: 1\")\n",
        "        axes[1, i].axis(\"off\")\n",
        "    plt.suptitle(\"First 5 Images of 0 and 1 from MNIST Subset\")\n",
        "    plt.show()"
      ],
      "metadata": {
        "colab": {
          "base_uri": "https://localhost:8080/",
          "height": 369
        },
        "id": "XKY2qjhCHAZ7",
        "outputId": "b4fa2c24-5c20-4d5c-b335-0c0614a9aed3"
      },
      "execution_count": 9,
      "outputs": [
        {
          "output_type": "display_data",
          "data": {
            "text/plain": [
              "<Figure size 1000x500 with 10 Axes>"
            ],
            "image/png": "[encoded data removed]"
          },
          "metadata": {}
        }
      ]
    },
    {
      "cell_type": "markdown",
      "source": [
        "## Step - 2 - Initializing the Weights:"
      ],
      "metadata": {
        "id": "qyM34tbHIqGi"
      }
    },
    {
      "cell_type": "code",
      "source": [
        "# Initialize weights and bias\n",
        "weights = np.zeros(X.shape[1])  # 784 weights (one for each pixel)\n",
        "bias = 0\n",
        "learning_rate = 0.1\n",
        "epochs = 100"
      ],
      "metadata": {
        "id": "SMsXaZ38HfBI"
      },
      "execution_count": 10,
      "outputs": []
    },
    {
      "cell_type": "markdown",
      "source": [
        "**Answer the Following Question:**"
      ],
      "metadata": {
        "id": "uHErdsmpSPXJ"
      }
    },
    {
      "cell_type": "markdown",
      "source": [
        "1. Question - 3: What does the weights array represent in this context?\n",
        "\n",
        "- The weights array represents the importance of each pixel in the image when making a decision about whether the image is a 0 or 1. The weight decides how much influence the input will have on output.  \n"
      ],
      "metadata": {
        "id": "JmfvlXVlSSvz"
      }
    },
    {
      "cell_type": "markdown",
      "source": [
        "2. Question - 4: Why are we initializing the weights to zero? What effect could this\n",
        "have on the training process?\n",
        "\n",
        "- The weights are initialized to zero to make the models treat all pixels equally and doesn;t favor any specific pattern. Due to 0 initialization of weight, the model might struggle to learn properly. Therefore, it's better to start with small random weights instead of zero.  "
      ],
      "metadata": {
        "id": "p6o6Yo0oSWhG"
      }
    },
    {
      "cell_type": "markdown",
      "source": [
        "## Step - 3 - Make a Decision function:"
      ],
      "metadata": {
        "id": "EvraDxaeRVeo"
      }
    },
    {
      "cell_type": "code",
      "source": [
        "import numpy as np\n",
        "\n",
        "def decision_function(X, weights, bias):\n",
        "    \"\"\"\n",
        "    Compute the predicted labels for the input data.\n",
        "\n",
        "    Parameters:\n",
        "    - X: Features (input data) as a numpy array of shape (n_samples, n_features)\n",
        "    - weights: Updated weights after training\n",
        "    - bias: Updated bias after training\n",
        "\n",
        "    Returns:\n",
        "    - y_pred_all: The predicted labels for the input data\n",
        "    \"\"\"\n",
        "    predictions = np.dot(X, weights) + bias\n",
        "    y_pred_all = np.where(predictions >= 0, 1, 0)\n",
        "\n",
        "    return y_pred_all"
      ],
      "metadata": {
        "id": "6uVj75txLWQi"
      },
      "execution_count": 11,
      "outputs": []
    },
    {
      "cell_type": "markdown",
      "source": [
        "## Step - 3 - Implement the Perceptron Learning Algorithm"
      ],
      "metadata": {
        "id": "AVZNGyRdI4I4"
      }
    },
    {
      "cell_type": "code",
      "source": [
        "def train_perceptron(X, y, weights, bias, learning_rate=0.1, epochs=100):\n",
        "    \"\"\"\n",
        "    Train the perceptron using the Perceptron Learning Algorithm.\n",
        "\n",
        "    Parameters:\n",
        "    - X: Features (input data) as a numpy array of shape (n_samples, n_features)\n",
        "    - y: Labels (true output) as a numpy array of shape (n_samples,)\n",
        "    - weights: Initial weights as a numpy array of shape (n_features,)\n",
        "    - bias: Initial bias value (scalar)\n",
        "    - learning_rate: Learning rate for weight updates (default is 0.1)\n",
        "    - epochs: Number of iterations to train the model (default is 100)\n",
        "\n",
        "    Returns:\n",
        "    - weights: Updated weights after training\n",
        "    - bias: Updated bias after training\n",
        "    - accuracy: Total correct prediction.\n",
        "    \"\"\"\n",
        "    # Step 3: Perceptron Learning Algorithm\n",
        "    # Your Code here#\n",
        "    for epoch in range(epochs):\n",
        "      y_pred = decision_function(X, weights, bias)\n",
        "      for i in range(X.shape[0]):\n",
        "        error = y[i] - y_pred[i]\n",
        "\n",
        "        weights += learning_rate * error * X[i]\n",
        "\n",
        "        bias += learning_rate * error\n",
        "\n",
        "      y_pred = decision_function(X, weights, bias)\n",
        "      accuracy = np.mean(y_pred == y)\n",
        "\n",
        "      if (epoch+1) % 10 == 0:\n",
        "        print(f\"Epoch {epoch+1}, Accuracy: {accuracy:.4f}\")\n",
        "\n",
        "    return weights, bias, accuracy"
      ],
      "metadata": {
        "id": "Dg1ocrycJWpA"
      },
      "execution_count": 14,
      "outputs": []
    },
    {
      "cell_type": "markdown",
      "source": [
        "**Answer the Following Question:**\n",
        "1. Question - 5: What is the purpose of the output = np.dot(X[i], weights) + bias line?\n",
        "\n",
        "  - The line output = np.dot(X[i], weights) + bias is a crucial part of the perceptron algorithm. It computes the weighted sum of the inputs (features) for a single data point X[i]\n",
        "\n",
        "2. Question - 6: What happens when the prediction is wrong? How are the weights and\n",
        "bias updated?\n",
        "\n",
        "  - When the prediction is wrong, the perceptron learning algorithm updates the weight and bias to decrease the loss. New weight is updated bu following equation: old weights + (Learning Rate X Error X Input (Features)). Similarly Bias is update by adding the (Learing Rate X Error) to old bias.\n",
        "\n",
        "3. Question - 7:Why is the final accuracy important, and what do you expect it to be?\n",
        "\n",
        "  - The final accuracy is pivotal in evaluating the performance of a model. The accuracy represents the proportion of corectly classified instances out of total number of instances in the dataset. I expect the accuracy to be above 90%."
      ],
      "metadata": {
        "id": "MRM6Ni-aTtwF"
      }
    },
    {
      "cell_type": "markdown",
      "source": [
        "## Training the Perceptron"
      ],
      "metadata": {
        "id": "Va6AGI6iMAG9"
      }
    },
    {
      "cell_type": "code",
      "source": [
        "# After training the model with the perceptron_learning_algorithm\n",
        "weights, bias, accuracy = train_perceptron(X, y, weights, bias)\n",
        "\n",
        "# Evaluate the model using the new function\n",
        "print(\"The Final Accuracy is: \", accuracy)"
      ],
      "metadata": {
        "colab": {
          "base_uri": "https://localhost:8080/"
        },
        "id": "cn8XBYuZLswI",
        "outputId": "c7f73077-01f1-4051-e0d8-fe52735a199b"
      },
      "execution_count": 15,
      "outputs": [
        {
          "output_type": "stream",
          "name": "stdout",
          "text": [
            "Epoch 10, Accuracy: 0.9976\n",
            "Epoch 20, Accuracy: 0.9979\n",
            "Epoch 30, Accuracy: 0.9979\n",
            "Epoch 40, Accuracy: 0.9980\n",
            "Epoch 50, Accuracy: 0.9980\n",
            "Epoch 60, Accuracy: 0.9981\n",
            "Epoch 70, Accuracy: 0.9982\n",
            "Epoch 80, Accuracy: 0.9983\n",
            "Epoch 90, Accuracy: 0.9982\n",
            "Epoch 100, Accuracy: 0.9984\n",
            "The Final Accuracy is:  0.9984208448480063\n"
          ]
        }
      ]
    },
    {
      "cell_type": "markdown",
      "source": [
        "## Step 5: Visualize Misclassified Images"
      ],
      "metadata": {
        "id": "-SLq1jbSMKPm"
      }
    },
    {
      "cell_type": "code",
      "source": [
        "# Get predictions for all data points\n",
        "predictions = np.dot(X, weights) + bias\n",
        "y_pred = np.where(predictions >= 0, 1, 0)\n",
        "\n",
        "# Calculate final accuracy\n",
        "final_accuracy = np.mean(y_pred == y)\n",
        "print(f\"Final Accuracy: {final_accuracy:.4f}\")\n",
        "\n",
        "# Step 5: Visualize Misclassified Images\n",
        "misclassified_idx = np.where(y_pred != y)[0]\n",
        "if len(misclassified_idx) > 0:\n",
        "    fig, axes = plt.subplots(2, 5, figsize=(10, 5))\n",
        "    for ax, idx in zip(axes.flat, misclassified_idx[:10]):  # Show 10 misclassified images\n",
        "        ax.imshow(X[idx].reshape(28, 28), cmap=\"gray\")\n",
        "        ax.set_title(f\"Pred: {y_pred[idx]}, True: {y[idx]}\")\n",
        "        ax.axis(\"off\")\n",
        "    plt.suptitle(\"Misclassified Images\")\n",
        "    plt.show()\n",
        "else:\n",
        "    print(\"All images were correctly classified!\")"
      ],
      "metadata": {
        "colab": {
          "base_uri": "https://localhost:8080/",
          "height": 386
        },
        "id": "KAMz1RPGMN_A",
        "outputId": "9b72c6d9-33b6-44fa-d4dd-212397bb37ab"
      },
      "execution_count": 16,
      "outputs": [
        {
          "output_type": "stream",
          "name": "stdout",
          "text": [
            "Final Accuracy: 0.9984\n"
          ]
        },
        {
          "output_type": "display_data",
          "data": {
            "text/plain": [
              "<Figure size 1000x500 with 10 Axes>"
            ],
            "image/png": "[encoded data removed]"
          },
          "metadata": {}
        }
      ]
    },
    {
      "cell_type": "markdown",
      "source": [
        "**Answer the Following Question:**\n",
        "1. Question - 8:What does misclassified idx store, and how is it used in this code?\n",
        "  - The variable misclassified_idx stores the indices of the data points (images) that were incorrectly classified by the model. It is used in the code to identify abd visualize the misclassified images.\n",
        "2. Question - 9: How do you interpret the result if the output is ”All images were\n",
        "correctly classified!”?\n",
        "\n",
        "  - If the output is \"All images were correctly classified!\", it means that the model achieved 100% accuracy. Therefore, the model correctly predicted the label for every single image in the dataset."
      ],
      "metadata": {
        "id": "BcQvn1Hwb4FJ"
      }
    },
    {
      "cell_type": "markdown",
      "source": [
        "## Perceptron Algorithm for 3 vs 5 Classification"
      ],
      "metadata": {
        "id": "fo3iqtnIy_Hl"
      }
    },
    {
      "cell_type": "code",
      "source": [
        "df_3_5 = pd.read_csv(\"/content/drive/MyDrive/AL and ML/Workshop 3/mnist_3_and_5.csv\")\n",
        "\n",
        "# Extract features and labels\n",
        "X = df_3_5.drop(columns=[\"label\"]).values  # 784 pixels\n",
        "y = df_3_5[\"label\"].values  # Labels (3 or 5)\n",
        "\n",
        "# Check the shape of the features and labels\n",
        "print(\"Feature matrix shape:\", X.shape)\n",
        "print(\"Label vector shape:\", y.shape)"
      ],
      "metadata": {
        "id": "CeEDo-9gNknE",
        "colab": {
          "base_uri": "https://localhost:8080/"
        },
        "outputId": "0dbd08ee-c1db-4f4a-c913-e8d2e2133aac"
      },
      "execution_count": 17,
      "outputs": [
        {
          "output_type": "stream",
          "name": "stdout",
          "text": [
            "Feature matrix shape: (2741, 784)\n",
            "Label vector shape: (2741,)\n"
          ]
        }
      ]
    },
    {
      "cell_type": "markdown",
      "source": [
        "## Viewing the Dataset\n"
      ],
      "metadata": {
        "id": "vtnbzml60_Kr"
      }
    },
    {
      "cell_type": "code",
      "source": [
        "# Separate images for label 3 and label 5\n",
        "images_3 = X[y == 3]  # Get all images with label 3\n",
        "images_5 = X[y == 5]  # Get all images with label 5\n",
        "\n",
        "fig, axes = plt.subplots(2, 5, figsize=(10, 5))\n",
        "\n",
        "# Check if the arrays have the required amount of data\n",
        "if len(images_3) < 5 or len(images_5) < 5:\n",
        "    print(\"Error: Not enough images in images_0 or images_1 to plot 5 images.\")\n",
        "else:\n",
        "    for i in range(5):\n",
        "        # Plot digit 0\n",
        "        axes[0, i].imshow(images_3[i].reshape(28, 28), cmap=\"gray\")\n",
        "        axes[0, i].set_title(\"Label: 3\")\n",
        "        axes[0, i].axis(\"off\")\n",
        "        # Plot digit 1\n",
        "        axes[1, i].imshow(images_5[i].reshape(28, 28), cmap=\"gray\")\n",
        "        axes[1, i].set_title(\"Label: 5\")\n",
        "        axes[1, i].axis(\"off\")\n",
        "    plt.suptitle(\"First 5 Images of 0 and 1 from MNIST Subset\")\n",
        "    plt.show()"
      ],
      "metadata": {
        "colab": {
          "base_uri": "https://localhost:8080/",
          "height": 369
        },
        "id": "nk8tbHoX0_pn",
        "outputId": "f8468ac3-190a-4657-9175-d8517cca3d2e"
      },
      "execution_count": 18,
      "outputs": [
        {
          "output_type": "display_data",
          "data": {
            "text/plain": [
              "<Figure size 1000x500 with 10 Axes>"
            ],
            "image/png": "[encoded data removed]"
          },
          "metadata": {}
        }
      ]
    },
    {
      "cell_type": "markdown",
      "source": [
        "## Step - 2 - Initializing the Weights:"
      ],
      "metadata": {
        "id": "LacCc_wv32Wg"
      }
    },
    {
      "cell_type": "code",
      "source": [
        "# Initialize weights and bias\n",
        "weights = np.zeros(X.shape[1]) # 784 weights (one for each pixel)\n",
        "bias = 0\n",
        "learning_rate = 0.1\n",
        "epochs = 100"
      ],
      "metadata": {
        "id": "xtWKLmK2335v"
      },
      "execution_count": 20,
      "outputs": []
    },
    {
      "cell_type": "markdown",
      "source": [
        "## Step - 3 - Make a Decision function:"
      ],
      "metadata": {
        "id": "4lfyDxXH4Ayo"
      }
    },
    {
      "cell_type": "code",
      "source": [
        "import numpy as np\n",
        "\n",
        "def decision_function(X, weights, bias):\n",
        "    \"\"\"\n",
        "    Compute the predicted labels for the input data.\n",
        "\n",
        "    Parameters:\n",
        "    - X: Features (input data) as a numpy array of shape (n_samples, n_features)\n",
        "    - weights: Updated weights after training\n",
        "    - bias: Updated bias after training\n",
        "\n",
        "    Returns:\n",
        "    - y_pred_all: The predicted labels for the input data\n",
        "    \"\"\"\n",
        "    predictions = np.dot(X, weights) + bias\n",
        "    y_pred_all = np.where(predictions >= 0, 5, 3)\n",
        "\n",
        "    return y_pred_all"
      ],
      "metadata": {
        "id": "XnNnaurB39Mw"
      },
      "execution_count": 19,
      "outputs": []
    },
    {
      "cell_type": "markdown",
      "source": [
        "## Step - 3 - Implement the Perceptron Learning Algorithm"
      ],
      "metadata": {
        "id": "gFFZtLYN4Dem"
      }
    },
    {
      "cell_type": "code",
      "source": [
        "def train_perceptron(X, y, weights, bias, learning_rate=0.1, epochs=100):\n",
        "    \"\"\"\n",
        "    Train the perceptron using the Perceptron Learning Algorithm.\n",
        "\n",
        "    Parameters:\n",
        "    - X: Features (input data) as a numpy array of shape (n_samples, n_features)\n",
        "    - y: Labels (true output) as a numpy array of shape (n_samples,)\n",
        "    - weights: Initial weights as a numpy array of shape (n_features,)\n",
        "    - bias: Initial bias value (scalar)\n",
        "    - learning_rate: Learning rate for weight updates (default is 0.1)\n",
        "    - epochs: Number of iterations to train the model (default is 100)\n",
        "\n",
        "    Returns:\n",
        "    - weights: Updated weights after training\n",
        "    - bias: Updated bias after training\n",
        "    - accuracy: Total correct prediction.\n",
        "    \"\"\"\n",
        "    # Step 3: Perceptron Learning Algorithm\n",
        "    # Your Code here#\n",
        "    for epoch in range(epochs):\n",
        "      y_pred = decision_function(X, weights, bias)\n",
        "      for i in range(X.shape[0]):\n",
        "        error = y[i] - y_pred[i]\n",
        "\n",
        "        weights += learning_rate * error * X[i]\n",
        "\n",
        "        bias += learning_rate * error\n",
        "\n",
        "      y_pred = decision_function(X, weights, bias)\n",
        "      accuracy = np.mean(y_pred == y)\n",
        "\n",
        "      if (epoch+1) % 10 == 0:\n",
        "        print(f\"Epoch {epoch+1}, Accuracy: {accuracy:.4f}\")\n",
        "\n",
        "    return weights, bias, accuracy"
      ],
      "metadata": {
        "id": "s-FZVHT04Iev"
      },
      "execution_count": 21,
      "outputs": []
    },
    {
      "cell_type": "markdown",
      "source": [
        "## Training the Perceptron"
      ],
      "metadata": {
        "id": "LjXBrRKK4KSA"
      }
    },
    {
      "cell_type": "code",
      "source": [
        "# After training the model with the perceptron_learning_algorithm\n",
        "weights, bias, accuracy = train_perceptron(X, y, weights, bias)\n",
        "\n",
        "# Evaluate the model using the new function\n",
        "print(\"The Final Accuracy is: \", accuracy)"
      ],
      "metadata": {
        "colab": {
          "base_uri": "https://localhost:8080/"
        },
        "id": "GW-SvCpH4L-L",
        "outputId": "e2139bb9-00fe-49c4-d560-1777e1a062ae"
      },
      "execution_count": 22,
      "outputs": [
        {
          "output_type": "stream",
          "name": "stdout",
          "text": [
            "Epoch 10, Accuracy: 0.9208\n",
            "Epoch 20, Accuracy: 0.9398\n",
            "Epoch 30, Accuracy: 0.9482\n",
            "Epoch 40, Accuracy: 0.9493\n",
            "Epoch 50, Accuracy: 0.9562\n",
            "Epoch 60, Accuracy: 0.9362\n",
            "Epoch 70, Accuracy: 0.9453\n",
            "Epoch 80, Accuracy: 0.9559\n",
            "Epoch 90, Accuracy: 0.9570\n",
            "Epoch 100, Accuracy: 0.9577\n",
            "The Final Accuracy is:  0.9576796789492886\n"
          ]
        }
      ]
    },
    {
      "cell_type": "code",
      "source": [
        "# Get predictions for all data points\n",
        "predictions = np.dot(X, weights) + bias\n",
        "y_pred = np.where(predictions >= 3, 5, 3)\n",
        "\n",
        "# Calculate final accuracy\n",
        "final_accuracy = np.mean(y_pred == y)\n",
        "print(f\"Final Accuracy: {final_accuracy:.4f}\")\n",
        "\n",
        "# Step 5: Visualize Misclassified Images\n",
        "misclassified_idx = np.where(y_pred != y)[0]\n",
        "if len(misclassified_idx) > 0:\n",
        "    fig, axes = plt.subplots(2, 5, figsize=(10, 5))\n",
        "    for ax, idx in zip(axes.flat, misclassified_idx[:10]):  # Show 10 misclassified images\n",
        "        ax.imshow(X[idx].reshape(28, 28), cmap=\"gray\")\n",
        "        ax.set_title(f\"Pred: {y_pred[idx]}, True: {y[idx]}\")\n",
        "        ax.axis(\"off\")\n",
        "    plt.suptitle(\"Misclassified Images\")\n",
        "    plt.show()\n",
        "else:\n",
        "    print(\"All images were correctly classified!\")"
      ],
      "metadata": {
        "colab": {
          "base_uri": "https://localhost:8080/",
          "height": 386
        },
        "id": "T7YtBkQZUm8m",
        "outputId": "8bdcf11e-ca8b-450a-8187-c8af04ac4d91"
      },
      "execution_count": 23,
      "outputs": [
        {
          "output_type": "stream",
          "name": "stdout",
          "text": [
            "Final Accuracy: 0.9577\n"
          ]
        },
        {
          "output_type": "display_data",
          "data": {
            "text/plain": [
              "<Figure size 1000x500 with 10 Axes>"
            ],
            "image/png": "[encoded data removed]"
          },
          "metadata": {}
        }
      ]
    }
  ]
}